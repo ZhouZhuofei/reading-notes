{
 "cells": [
  {
   "cell_type": "markdown",
   "metadata": {},
   "source": [
    "# Runge-Kutta Methods\n",
    "\n",
    "we know:\n",
    "\n",
    "**Runge-Kutta Order 4**"
   ]
  },
  {
   "cell_type": "code",
   "execution_count": 1,
   "metadata": {},
   "outputs": [
    {
     "data": {
      "text/plain": [
       "RungeKutta4 (generic function with 1 method)"
      ]
     },
     "execution_count": 1,
     "metadata": {},
     "output_type": "execute_result"
    }
   ],
   "source": [
    "function RungeKutta4(f::Function, a::Number, b::Number, N::Number, α::Number)\n",
    "    h = (b - a) / N\n",
    "    t, w = ones(N+1), ones(N+1)\n",
    "    t[1], w[1] = a, α\n",
    "    for i ∈ 1:N\n",
    "        K₁ = h * f(t[i], w[i])\n",
    "        K₂ = h * f(t[i] + h/2, w[i] + K₁/2)\n",
    "        K₃ = h * f(t[i] + h/2, w[i] + K₂/2)\n",
    "        K₄ = h * f(t[i] + h, w[i] + K₃)\n",
    "        w[i + 1] = w[i] + (K₁ + 2K₂ + 2K₃ + K₄)/6\n",
    "        t[i + 1] = a + i * h\n",
    "    end\n",
    "    return t, w\n",
    "end"
   ]
  },
  {
   "cell_type": "code",
   "execution_count": 10,
   "metadata": {},
   "outputs": [
    {
     "data": {
      "text/plain": [
       "11-element Array{Float64,1}:\n",
       " 0.5\n",
       " 0.8292933333333334\n",
       " 1.2140762106666667\n",
       " 1.6489220170416001\n",
       " 2.1272026849479437\n",
       " 2.6408226927287517\n",
       " 3.1798941702322305\n",
       " 3.7323400728549796\n",
       " 4.283409498318405\n",
       " 4.815085694579433\n",
       " 5.305363000692653"
      ]
     },
     "execution_count": 10,
     "metadata": {},
     "output_type": "execute_result"
    }
   ],
   "source": [
    "#test\n",
    "f(t, w) = w - t^2 + 1\n",
    "RungeKutta4(f, 0, 2, 10, 0.5)[2]"
   ]
  },
  {
   "cell_type": "code",
   "execution_count": 7,
   "metadata": {},
   "outputs": [
    {
     "data": {
      "text/plain": [
       "ModifiedEulerMethod (generic function with 1 method)"
      ]
     },
     "execution_count": 7,
     "metadata": {},
     "output_type": "execute_result"
    }
   ],
   "source": [
    "function ModifiedEulerMethod(f::Function, a::Number, b::Number, N::Number, α::Number)\n",
    "    h = (b - a) / N\n",
    "    t, w = ones(N+1), ones(N+1)\n",
    "    t[1], w[1] = a, α\n",
    "    for i ∈ 1:N\n",
    "        t[i + 1] = a + i * h\n",
    "        w[i + 1] = w[i] + h/2 * (f(t[i], w[i]) + f(t[i+1], w[i] + h * f(t[i], w[i])))\n",
    "    end\n",
    "    return t, w\n",
    "end"
   ]
  },
  {
   "cell_type": "code",
   "execution_count": 9,
   "metadata": {},
   "outputs": [
    {
     "data": {
      "text/plain": [
       "11-element Array{Float64,1}:\n",
       " 0.5\n",
       " 0.8260000000000001\n",
       " 1.2069200000000002\n",
       " 1.6372424000000003\n",
       " 2.1102357280000006\n",
       " 2.617687588160001\n",
       " 3.149578857555201\n",
       " 3.693686206217345\n",
       " 4.235097171585161\n",
       " 4.755618549333896\n",
       " 5.233054630187353"
      ]
     },
     "execution_count": 9,
     "metadata": {},
     "output_type": "execute_result"
    }
   ],
   "source": [
    "ModifiedEulerMethod(f, 0, 2, 10, 0.5)[2]"
   ]
  },
  {
   "cell_type": "markdown",
   "metadata": {},
   "source": [
    "***********\n",
    "# Sets One\n"
   ]
  },
  {
   "cell_type": "code",
   "execution_count": 17,
   "metadata": {},
   "outputs": [
    {
     "data": {
      "text/plain": [
       "3×2 Array{Float64,2}:\n",
       " 1.0      1.0\n",
       " 1.8125   1.83333\n",
       " 2.48155  2.5"
      ]
     },
     "metadata": {},
     "output_type": "display_data"
    }
   ],
   "source": [
    "#1.b\n",
    "f1(t, w) = 1 + (t - w)^2\n",
    "pre = ModifiedEulerMethod(f1, 2, 3, 2, 1)[2]\n",
    "Actual = [t + 1/(1-t) for t in [2, 2.5, 3]]\n",
    "display([pre Actual])"
   ]
  },
  {
   "cell_type": "code",
   "execution_count": 23,
   "metadata": {},
   "outputs": [
    {
     "data": {
      "text/plain": [
       "5×3 Array{Float64,2}:\n",
       " 0.0   1.0      1.0\n",
       " 0.25  1.3199   1.32915\n",
       " 0.5   1.70703  1.73049\n",
       " 0.75  2.00536  2.04147\n",
       " 1.0   2.07708  2.11798"
      ]
     },
     "metadata": {},
     "output_type": "display_data"
    }
   ],
   "source": [
    "#1.d\n",
    "f1(t, w) = cos(2*t)+sin(3*t)\n",
    "pre = ModifiedEulerMethod(f1, 0, 1, 4, 1)\n",
    "Actual = [1/2 * sin(2*t) - 1/3 * cos(3*t) + 4/3 for t in [0, 0.25, 0.5, 0.75, 1.0]]\n",
    "display([pre[1] pre[2] Actual])"
   ]
  },
  {
   "cell_type": "code",
   "execution_count": 29,
   "metadata": {},
   "outputs": [
    {
     "data": {
      "text/plain": [
       "\"t pre  Act\""
      ]
     },
     "metadata": {},
     "output_type": "display_data"
    },
    {
     "data": {
      "text/plain": [
       "11×3 Array{Float64,2}:\n",
       " 0.0  0.333333  0.333333\n",
       " 0.1  0.220833  0.212177\n",
       " 0.2  0.174271  0.162626\n",
       " 0.3  0.176419  0.164377\n",
       " 0.4  0.216512  0.205112\n",
       " 0.5  0.28782   0.277362\n",
       " 0.6  0.386138  0.376596\n",
       " 0.7  0.508836  0.500066\n",
       " 0.8  0.654272  0.646105\n",
       " 0.9  0.82142   0.813703\n",
       " 1.0  1.00964   1.00225"
      ]
     },
     "metadata": {},
     "output_type": "display_data"
    }
   ],
   "source": [
    "#3.d\n",
    "f1(t, w) = -5 * w + 5 * t^2 + 2 * t\n",
    "pre = ModifiedEulerMethod(f1, 0, 1, 10, 1/3)\n",
    "Actual = [t^2 + 1/3 * exp(-5 * t) for t in 0:0.1:1]\n",
    "display(\"t pre  Act\")\n",
    "display([pre[1] pre[2] Actual])"
   ]
  },
  {
   "cell_type": "code",
   "execution_count": 31,
   "metadata": {},
   "outputs": [
    {
     "data": {
      "text/plain": [
       "\"t pre  Act\""
      ]
     },
     "metadata": {},
     "output_type": "display_data"
    },
    {
     "data": {
      "text/plain": [
       "11×3 Array{Float64,2}:\n",
       " 0.0  0.333333  0.333333\n",
       " 0.1  0.212283  0.212177\n",
       " 0.2  0.162765  0.162626\n",
       " 0.3  0.164517  0.164377\n",
       " 0.4  0.205241  0.205112\n",
       " 0.5  0.277477  0.277362\n",
       " 0.6  0.376698  0.376596\n",
       " 0.7  0.500158  0.500066\n",
       " 0.8  0.64619   0.646105\n",
       " 0.9  0.813782  0.813703\n",
       " 1.0  1.00232   1.00225"
      ]
     },
     "metadata": {},
     "output_type": "display_data"
    }
   ],
   "source": [
    "#15.d\n",
    "f1(t, w) = -5 * w + 5 * t^2 + 2 * t\n",
    "pre = RungeKutta4(f1, 0, 1, 10, 1/3)\n",
    "Actual = [t^2 + 1/3 * exp(-5 * t) for t in 0:0.1:1]\n",
    "display(\"t pre  Act\")\n",
    "display([pre[1] pre[2] Actual])"
   ]
  },
  {
   "cell_type": "markdown",
   "metadata": {},
   "source": [
    "Water flows from an inverted conical tank with circular orifice at the rate\n",
    "\n",
    "$$\\frac{dx}{dt} = -0.6\\pi r^2 \\sqrt{2g} \\frac{\\sqrt{x}}{A(x)}$$\n",
    "\n",
    "where r is the radius of the orifice, x is the height of the liquid level from the vertex of the cone, and A(x) is the area of the cross section of the tank x units above the orifice. Suppose $r = 0.1 ft, g = 32.1 ft/s^2$, and the tank has an initial water level of 8 ft and initial volume of $512(π/3) ft^3$. Use the Runge-Kutta method of order four to find the following.\n",
    "\n",
    "a. The water level after 10 min with h = 20 s\n",
    "\n",
    "b. When the tank will be empty, to within 1 min."
   ]
  },
  {
   "cell_type": "code",
   "execution_count": 1,
   "metadata": {},
   "outputs": [
    {
     "data": {
      "text/plain": [
       "32.1"
      ]
     },
     "execution_count": 1,
     "metadata": {},
     "output_type": "execute_result"
    }
   ],
   "source": [
    "const r = 0.1\n",
    "const g = 32.1"
   ]
  },
  {
   "cell_type": "code",
   "execution_count": null,
   "metadata": {},
   "outputs": [],
   "source": []
  }
 ],
 "metadata": {
  "@webio": {
   "lastCommId": null,
   "lastKernelId": null
  },
  "kernelspec": {
   "display_name": "Julia 1.5.1",
   "language": "julia",
   "name": "julia-1.5"
  },
  "language_info": {
   "file_extension": ".jl",
   "mimetype": "application/julia",
   "name": "julia",
   "version": "1.5.1"
  }
 },
 "nbformat": 4,
 "nbformat_minor": 4
}
