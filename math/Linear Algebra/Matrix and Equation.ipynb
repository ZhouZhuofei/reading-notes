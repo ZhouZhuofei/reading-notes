{
 "cells": [
  {
   "cell_type": "markdown",
   "metadata": {},
   "source": [
    "# 矩阵和方程组\n",
    "## 线性方程\n",
    "\n",
    "### Exercise"
   ]
  },
  {
   "cell_type": "markdown",
   "metadata": {},
   "source": [
    "*****\n",
    "1.使用随机生成的$4\\times4$矩阵$A$,$B$.计算下面矩阵，并确定哪些矩阵是相等的。"
   ]
  },
  {
   "cell_type": "code",
   "execution_count": 1,
   "metadata": {},
   "outputs": [
    {
     "data": {
      "text/plain": [
       "4×4 Array{Float64,2}:\n",
       " 0.757516  0.707448   0.496353  0.344774\n",
       " 0.23901   0.83478    0.37416   0.373502\n",
       " 0.464154  0.0547248  0.115363  0.654543\n",
       " 0.804421  0.354907   0.717205  0.528064"
      ]
     },
     "execution_count": 1,
     "metadata": {},
     "output_type": "execute_result"
    }
   ],
   "source": [
    "A = rand(4,4)"
   ]
  },
  {
   "cell_type": "code",
   "execution_count": 2,
   "metadata": {},
   "outputs": [
    {
     "data": {
      "text/plain": [
       "4×4 Array{Float64,2}:\n",
       " 0.893909   0.557959  0.568323  0.0367486\n",
       " 0.549221   0.144837  0.763599  0.393109\n",
       " 0.0981079  0.935241  0.589028  0.552994\n",
       " 0.802547   0.286322  0.501098  0.456753"
      ]
     },
     "execution_count": 2,
     "metadata": {},
     "output_type": "execute_result"
    }
   ],
   "source": [
    "B = rand(4,4)"
   ]
  },
  {
   "cell_type": "code",
   "execution_count": 3,
   "metadata": {},
   "outputs": [
    {
     "data": {
      "text/plain": [
       "4×4 Array{Float64,2}:\n",
       " 1.39109   1.08805   1.43585   0.737899\n",
       " 1.00859   0.711136  1.18082   0.714449\n",
       " 0.981587  0.562207  0.701519  0.401329\n",
       " 1.40816   1.32219   1.41524   0.806884"
      ]
     },
     "execution_count": 3,
     "metadata": {},
     "output_type": "execute_result"
    }
   ],
   "source": [
    "A * B"
   ]
  },
  {
   "cell_type": "code",
   "execution_count": 4,
   "metadata": {},
   "outputs": [
    {
     "data": {
      "text/plain": [
       "4×4 Array{Float64,2}:\n",
       " 1.10386  1.14231   0.744379  0.907992\n",
       " 1.12131  0.690757  0.69683   0.950849\n",
       " 1.01609  1.07862   0.863188  1.0607\n",
       " 1.27638  0.996304  0.89087   0.952824"
      ]
     },
     "execution_count": 4,
     "metadata": {},
     "output_type": "execute_result"
    }
   ],
   "source": [
    "B * A"
   ]
  },
  {
   "cell_type": "code",
   "execution_count": 6,
   "metadata": {},
   "outputs": [
    {
     "data": {
      "text/plain": [
       "4×4 Array{Float64,2}:\n",
       " 1.10386  1.14231   0.744379  0.907992\n",
       " 1.12131  0.690757  0.69683   0.950849\n",
       " 1.01609  1.07862   0.863188  1.0607\n",
       " 1.27638  0.996304  0.89087   0.952824"
      ]
     },
     "execution_count": 6,
     "metadata": {},
     "output_type": "execute_result"
    }
   ],
   "source": [
    "Array((A' * B')')"
   ]
  },
  {
   "cell_type": "code",
   "execution_count": 7,
   "metadata": {},
   "outputs": [
    {
     "data": {
      "text/plain": [
       "4×4 Array{Float64,2}:\n",
       " 1.39109   1.08805   1.43585   0.737899\n",
       " 1.00859   0.711136  1.18082   0.714449\n",
       " 0.981587  0.562207  0.701519  0.401329\n",
       " 1.40816   1.32219   1.41524   0.806884"
      ]
     },
     "execution_count": 7,
     "metadata": {},
     "output_type": "execute_result"
    }
   ],
   "source": [
    "Array((B' * A')')"
   ]
  },
  {
   "cell_type": "code",
   "execution_count": 8,
   "metadata": {},
   "outputs": [
    {
     "data": {
      "text/plain": [
       "4×4 Array{Float64,2}:\n",
       " 1.10386   1.12131   1.01609   1.27638\n",
       " 1.14231   0.690757  1.07862   0.996304\n",
       " 0.744379  0.69683   0.863188  0.89087\n",
       " 0.907992  0.950849  1.0607    0.952824"
      ]
     },
     "execution_count": 8,
     "metadata": {},
     "output_type": "execute_result"
    }
   ],
   "source": [
    "Array(A' * B')"
   ]
  },
  {
   "cell_type": "code",
   "execution_count": 9,
   "metadata": {},
   "outputs": [
    {
     "data": {
      "text/plain": [
       "4×4 Array{Float64,2}:\n",
       " 1.39109   1.00859   0.981587  1.40816\n",
       " 1.08805   0.711136  0.562207  1.32219\n",
       " 1.43585   1.18082   0.701519  1.41524\n",
       " 0.737899  0.714449  0.401329  0.806884"
      ]
     },
     "execution_count": 9,
     "metadata": {},
     "output_type": "execute_result"
    }
   ],
   "source": [
    "Array((A * B)')"
   ]
  },
  {
   "cell_type": "code",
   "execution_count": 10,
   "metadata": {},
   "outputs": [
    {
     "data": {
      "text/plain": [
       "4×4 Array{Float64,2}:\n",
       " 1.39109   1.00859   0.981587  1.40816\n",
       " 1.08805   0.711136  0.562207  1.32219\n",
       " 1.43585   1.18082   0.701519  1.41524\n",
       " 0.737899  0.714449  0.401329  0.806884"
      ]
     },
     "execution_count": 10,
     "metadata": {},
     "output_type": "execute_result"
    }
   ],
   "source": [
    "Array(B' * A')"
   ]
  },
  {
   "cell_type": "code",
   "execution_count": 11,
   "metadata": {},
   "outputs": [
    {
     "data": {
      "text/plain": [
       "4×4 Array{Float64,2}:\n",
       " 1.10386   1.12131   1.01609   1.27638\n",
       " 1.14231   0.690757  1.07862   0.996304\n",
       " 0.744379  0.69683   0.863188  0.89087\n",
       " 0.907992  0.950849  1.0607    0.952824"
      ]
     },
     "execution_count": 11,
     "metadata": {},
     "output_type": "execute_result"
    }
   ],
   "source": [
    "Array((B * A)')"
   ]
  },
  {
   "cell_type": "code",
   "execution_count": 12,
   "metadata": {},
   "outputs": [],
   "source": [
    "using LinearAlgebra"
   ]
  },
  {
   "cell_type": "code",
   "execution_count": 13,
   "metadata": {},
   "outputs": [
    {
     "data": {
      "text/plain": [
       "4×4 Array{Float64,2}:\n",
       " -0.247194  -0.58859   3.1484   -0.818734\n",
       " -0.891167  -1.70846  -1.12012   2.88484\n",
       "  6.48013   -1.03159  -3.25507  -3.39368\n",
       " -9.4742     5.63612   2.0502    3.89334"
      ]
     },
     "execution_count": 13,
     "metadata": {},
     "output_type": "execute_result"
    }
   ],
   "source": [
    "inv(A * B)"
   ]
  },
  {
   "cell_type": "code",
   "execution_count": 14,
   "metadata": {},
   "outputs": [
    {
     "data": {
      "text/plain": [
       "4×4 Array{Float64,2}:\n",
       "  1.66936    1.40897  -3.46469    0.860091\n",
       "  2.93092   -1.40358  -0.285824  -1.07417\n",
       " -5.95198   -4.10421   3.1991     6.20634\n",
       "  0.264064   3.41755   1.94901   -4.78226"
      ]
     },
     "execution_count": 14,
     "metadata": {},
     "output_type": "execute_result"
    }
   ],
   "source": [
    "inv(A) * inv(B)"
   ]
  },
  {
   "cell_type": "code",
   "execution_count": 15,
   "metadata": {},
   "outputs": [
    {
     "data": {
      "text/plain": [
       "4×4 Array{Float64,2}:\n",
       "  1.66936    1.40897  -3.46469    0.860091\n",
       "  2.93092   -1.40358  -0.285824  -1.07417\n",
       " -5.95198   -4.10421   3.1991     6.20634\n",
       "  0.264064   3.41755   1.94901   -4.78226"
      ]
     },
     "execution_count": 15,
     "metadata": {},
     "output_type": "execute_result"
    }
   ],
   "source": [
    "inv(B * A)"
   ]
  },
  {
   "cell_type": "code",
   "execution_count": 16,
   "metadata": {},
   "outputs": [
    {
     "data": {
      "text/plain": [
       "4×4 Array{Float64,2}:\n",
       " -0.247194  -0.58859   3.1484   -0.818734\n",
       " -0.891167  -1.70846  -1.12012   2.88484\n",
       "  6.48013   -1.03159  -3.25507  -3.39368\n",
       " -9.4742     5.63612   2.0502    3.89334"
      ]
     },
     "execution_count": 16,
     "metadata": {},
     "output_type": "execute_result"
    }
   ],
   "source": [
    "inv(B) * inv(A)"
   ]
  },
  {
   "cell_type": "code",
   "execution_count": 17,
   "metadata": {},
   "outputs": [
    {
     "data": {
      "text/plain": [
       "4×4 Array{Float64,2}:\n",
       " -0.247194  -0.891167   6.48013  -9.4742\n",
       " -0.58859   -1.70846   -1.03159   5.63612\n",
       "  3.1484    -1.12012   -3.25507   2.0502\n",
       " -0.818734   2.88484   -3.39368   3.89334"
      ]
     },
     "execution_count": 17,
     "metadata": {},
     "output_type": "execute_result"
    }
   ],
   "source": [
    "inv(Array((A * B)'))"
   ]
  },
  {
   "cell_type": "code",
   "execution_count": 18,
   "metadata": {},
   "outputs": [
    {
     "data": {
      "text/plain": [
       "4×4 Array{Float64,2}:\n",
       "  1.66936    2.93092   -5.95198   0.264064\n",
       "  1.40897   -1.40358   -4.10421   3.41755\n",
       " -3.46469   -0.285824   3.1991    1.94901\n",
       "  0.860091  -1.07417    6.20634  -4.78226"
      ]
     },
     "execution_count": 18,
     "metadata": {},
     "output_type": "execute_result"
    }
   ],
   "source": [
    "inv(Array(A' * B'))"
   ]
  },
  {
   "cell_type": "code",
   "execution_count": 19,
   "metadata": {},
   "outputs": [
    {
     "data": {
      "text/plain": [
       "4×4 Array{Float64,2}:\n",
       " -0.247194  -0.891167   6.48013  -9.4742\n",
       " -0.58859   -1.70846   -1.03159   5.63612\n",
       "  3.1484    -1.12012   -3.25507   2.0502\n",
       " -0.818734   2.88484   -3.39368   3.89334"
      ]
     },
     "execution_count": 19,
     "metadata": {},
     "output_type": "execute_result"
    }
   ],
   "source": [
    "inv(A') * inv(B')"
   ]
  },
  {
   "cell_type": "code",
   "execution_count": 20,
   "metadata": {},
   "outputs": [
    {
     "data": {
      "text/plain": [
       "4×4 Adjoint{Float64,Array{Float64,2}}:\n",
       "  1.66936    2.93092   -5.95198   0.264064\n",
       "  1.40897   -1.40358   -4.10421   3.41755\n",
       " -3.46469   -0.285824   3.1991    1.94901\n",
       "  0.860091  -1.07417    6.20634  -4.78226"
      ]
     },
     "execution_count": 20,
     "metadata": {},
     "output_type": "execute_result"
    }
   ],
   "source": [
    "(inv(A) * inv(B))'"
   ]
  },
  {
   "cell_type": "markdown",
   "metadata": {},
   "source": [
    "*********\n",
    "令$n=200$,使用$A=floor(10 * rand(n)); b = sum(A')'; z=ones(n,1)$,生成一个$n\\times n$矩阵和两个$R^n$中的向量。"
   ]
  },
  {
   "cell_type": "code",
   "execution_count": 58,
   "metadata": {},
   "outputs": [
    {
     "name": "stdout",
     "output_type": "stream",
     "text": [
      "  13.931 ms (4 allocations: 7.64 MiB)\n",
      "  37.294 ms (6 allocations: 8.13 MiB)\n",
      "2.129962872743363e-12\n",
      "1.1823431123048067e-11\n"
     ]
    }
   ],
   "source": [
    "using BenchmarkTools\n",
    "n = 1000 #change n=200, n=1000\n",
    "A = floor.(10 * rand(n, n))\n",
    "b = Array(sum(A', dims=1)')\n",
    "z = ones(n, 1)\n",
    "\n",
    "#= test time for two way: \\ and inv =#\n",
    "@btime A\\b\n",
    "@btime inv(A) * b;\n",
    "x₁ = A\\b\n",
    "x₂ = inv(A) * b;\n",
    "\n",
    "#test Accurate\n",
    "println(maximum(abs.(x₁ - z)))\n",
    "println(maximum(abs.(x₂ - z)))"
   ]
  },
  {
   "cell_type": "markdown",
   "metadata": {},
   "source": [
    "********\n",
    "令$A=floor(10 * rand(6))$,根据构造，矩阵$A$将有整数元。将矩阵$A$的第6列更改，使得$A$为奇异的。"
   ]
  },
  {
   "cell_type": "code",
   "execution_count": 70,
   "metadata": {},
   "outputs": [
    {
     "data": {
      "text/plain": [
       "6×6 Array{Float64,2}:\n",
       " 3.0  4.0  1.0  3.0  2.0  -13.0\n",
       " 7.0  5.0  7.0  8.0  6.0  -33.0\n",
       " 2.0  6.0  6.0  2.0  5.0  -21.0\n",
       " 0.0  4.0  5.0  1.0  6.0  -16.0\n",
       " 3.0  7.0  6.0  5.0  5.0  -26.0\n",
       " 6.0  6.0  4.0  4.0  7.0  -27.0"
      ]
     },
     "execution_count": 70,
     "metadata": {},
     "output_type": "execute_result"
    }
   ],
   "source": [
    "A = floor.(10 * rand(6,6))\n",
    "B = A'\n",
    "A[:, 6] = -sum(B[1:5, :], dims=1)'\n",
    "A"
   ]
  },
  {
   "cell_type": "code",
   "execution_count": 73,
   "metadata": {},
   "outputs": [
    {
     "data": {
      "text/plain": [
       "6×1 Array{Float64,2}:\n",
       " 0.0\n",
       " 0.0\n",
       " 0.0\n",
       " 0.0\n",
       " 0.0\n",
       " 0.0"
      ]
     },
     "execution_count": 73,
     "metadata": {},
     "output_type": "execute_result"
    }
   ],
   "source": [
    "#a\n",
    "x = ones(6, 1)\n",
    "A*x"
   ]
  },
  {
   "cell_type": "code",
   "execution_count": 79,
   "metadata": {},
   "outputs": [
    {
     "data": {
      "text/plain": [
       "6×6 Array{Float64,2}:\n",
       " 0.0  0.0  0.0  0.0  0.0  0.0\n",
       " 0.0  0.0  0.0  0.0  0.0  0.0\n",
       " 0.0  0.0  0.0  0.0  0.0  0.0\n",
       " 0.0  0.0  0.0  0.0  0.0  0.0\n",
       " 0.0  0.0  0.0  0.0  0.0  0.0\n",
       " 0.0  0.0  0.0  0.0  0.0  0.0"
      ]
     },
     "execution_count": 79,
     "metadata": {},
     "output_type": "execute_result"
    }
   ],
   "source": [
    "#\n",
    "A * (x * collect(1:6)')"
   ]
  },
  {
   "cell_type": "code",
   "execution_count": 84,
   "metadata": {},
   "outputs": [
    {
     "data": {
      "text/plain": [
       "6×6 Array{Float64,2}:\n",
       "  -67.0  -30.0  22.0  15.0  -22.0  11.0\n",
       " -144.0  -92.0  50.0  32.0  -44.0  40.0\n",
       "  -81.0  -84.0  55.0  38.0  -28.0  22.0\n",
       "  -52.0  -77.0  47.0  32.0   -9.0  16.0\n",
       " -109.0  -85.0  54.0  36.0  -33.0  20.0\n",
       " -123.0  -86.0  55.0  38.0  -38.0  38.0"
      ]
     },
     "execution_count": 84,
     "metadata": {},
     "output_type": "execute_result"
    }
   ],
   "source": [
    "#c\n",
    "C = floor.(10 * rand(6,6))\n",
    "D = B + C\n",
    "A * C"
   ]
  },
  {
   "cell_type": "code",
   "execution_count": 85,
   "metadata": {
    "scrolled": true
   },
   "outputs": [
    {
     "data": {
      "text/plain": [
       "6×6 Array{Float64,2}:\n",
       " 141.0   483.0  347.0  259.0  384.0   434.0\n",
       " 369.0  1220.0  875.0  659.0  982.0  1105.0\n",
       " 244.0   741.0  601.0  460.0  637.0   704.0\n",
       " 192.0   550.0  469.0  366.0  500.0   538.0\n",
       " 297.0   941.0  719.0  545.0  787.0   861.0\n",
       " 300.0   979.0  737.0  560.0  803.0   920.0"
      ]
     },
     "execution_count": 85,
     "metadata": {},
     "output_type": "execute_result"
    }
   ],
   "source": [
    "A * D"
   ]
  },
  {
   "cell_type": "markdown",
   "metadata": {},
   "source": [
    "*********\n"
   ]
  },
  {
   "cell_type": "code",
   "execution_count": 98,
   "metadata": {},
   "outputs": [
    {
     "data": {
      "text/plain": [
       "10-element Array{Float64,1}:\n",
       " 0.0\n",
       " 0.0\n",
       " 0.0\n",
       " 0.0\n",
       " 0.0\n",
       " 0.0\n",
       " 0.0\n",
       " 0.0\n",
       " 0.0\n",
       " 1.0"
      ]
     },
     "execution_count": 98,
     "metadata": {},
     "output_type": "execute_result"
    }
   ],
   "source": [
    "B = Matrix{Float64}(I, 10, 10) - triu(ones(10,10), 1)\n",
    "C = inv(B)\n",
    "x = C[:,10]\n",
    "B * x"
   ]
  },
  {
   "cell_type": "code",
   "execution_count": 100,
   "metadata": {},
   "outputs": [
    {
     "name": "stdout",
     "output_type": "stream",
     "text": [
      "[1.0 -1.0 -1.0 -1.0 -1.0 -1.0 -1.0 -1.0 -1.0 -1.0; 0.0 1.0 -1.0 -1.0 -1.0 -1.0 -1.0 -1.0 -1.0 -1.0; 0.0 0.0 1.0 -1.0 -1.0 -1.0 -1.0 -1.0 -1.0 -1.0; 0.0 0.0 0.0 1.0 -1.0 -1.0 -1.0 -1.0 -1.0 -1.0; 0.0 0.0 0.0 0.0 1.0 -1.0 -1.0 -1.0 -1.0 -1.0; 0.0 0.0 0.0 0.0 0.0 1.0 -1.0 -1.0 -1.0 -1.0; 0.0 0.0 0.0 0.0 0.0 0.0 1.0 -1.0 -1.0 -1.0; 0.0 0.0 0.0 0.0 0.0 0.0 0.0 1.0 -1.0 -1.0; 0.0 0.0 0.0 0.0 0.0 0.0 0.0 0.0 1.0 -1.0; -0.00390625 0.0 0.0 0.0 0.0 0.0 0.0 0.0 0.0 1.0]\n"
     ]
    },
    {
     "data": {
      "text/plain": [
       "10-element Array{Float64,1}:\n",
       " 0.0\n",
       " 0.0\n",
       " 0.0\n",
       " 0.0\n",
       " 0.0\n",
       " 0.0\n",
       " 0.0\n",
       " 0.0\n",
       " 0.0\n",
       " 0.0"
      ]
     },
     "execution_count": 100,
     "metadata": {},
     "output_type": "execute_result"
    }
   ],
   "source": [
    "#change a little\n",
    "B[10,1] = -1/256\n",
    "println(B)\n",
    "B * x"
   ]
  },
  {
   "cell_type": "markdown",
   "metadata": {},
   "source": [
    "*********\n"
   ]
  },
  {
   "cell_type": "code",
   "execution_count": 109,
   "metadata": {},
   "outputs": [
    {
     "data": {
      "text/plain": [
       "6×1 Array{Float64,2}:\n",
       "  2.220446049250313e-16\n",
       " -4.440892098500626e-16\n",
       "  8.881784197001252e-16\n",
       "  3.3306690738754696e-16\n",
       "  3.885780586188048e-16\n",
       " -3.3306690738754696e-16"
      ]
     },
     "execution_count": 109,
     "metadata": {},
     "output_type": "execute_result"
    }
   ],
   "source": [
    "using RowEchelon\n",
    "A = floor.(10 * rand(6, 6))\n",
    "b = floor.(20 * rand(6,1)) .- 10\n",
    "A\\b\n",
    "rref([A b])[:,7] - A\\b"
   ]
  },
  {
   "cell_type": "code",
   "execution_count": 113,
   "metadata": {},
   "outputs": [
    {
     "data": {
      "text/plain": [
       "6×7 Array{Float64,2}:\n",
       " 1.0  0.0  4.0  0.0  0.0  0.0  0.0\n",
       " 0.0  1.0  3.0  0.0  0.0  0.0  0.0\n",
       " 0.0  0.0  0.0  1.0  0.0  0.0  0.0\n",
       " 0.0  0.0  0.0  0.0  1.0  0.0  0.0\n",
       " 0.0  0.0  0.0  0.0  0.0  1.0  0.0\n",
       " 0.0  0.0  0.0  0.0  0.0  0.0  1.0"
      ]
     },
     "execution_count": 113,
     "metadata": {},
     "output_type": "execute_result"
    }
   ],
   "source": [
    "#b\n",
    "A[:,3] = A[:, 1:2] * [4 3]'\n",
    "rref([A b])\n",
    "#no solution for Ax=b"
   ]
  },
  {
   "cell_type": "markdown",
   "metadata": {},
   "source": [
    "**********\n"
   ]
  }
 ],
 "metadata": {
  "@webio": {
   "lastCommId": null,
   "lastKernelId": null
  },
  "kernelspec": {
   "display_name": "Julia 1.5.1",
   "language": "julia",
   "name": "julia-1.5"
  },
  "language_info": {
   "file_extension": ".jl",
   "mimetype": "application/julia",
   "name": "julia",
   "version": "1.5.1"
  }
 },
 "nbformat": 4,
 "nbformat_minor": 4
}
