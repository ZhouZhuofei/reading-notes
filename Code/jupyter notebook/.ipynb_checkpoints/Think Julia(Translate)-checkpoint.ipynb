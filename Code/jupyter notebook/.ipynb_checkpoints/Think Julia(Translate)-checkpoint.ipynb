{
 "cells": [
  {
   "cell_type": "markdown",
   "metadata": {},
   "source": [
    "# Think Julia: How to Think like a computer scientist\n",
    "\n",
    "_**Original Author: [Ben Lauwens](ben.lauwens@gmail.com),[Allen Downey](allendoweny@gmail.com)**_\n",
    "\n",
    "原书地址：https://benlauwens.github.io/ThinkJulia.jl/latest/book.html\n",
    "\n",
    "\n",
    "[TOC]\n",
    "***************\n",
    "## 前言\n",
    "\n",
    "2018年1月，我开始准备一门针对没有编程经验的学生的编程课程。我想用Julia，但是我发现 没有一本书的目的是学习用Julia作为第一编程语言来编程。有一些很好的教程解释了Julia的关键概 念，但是没有一个教程足够重视学习如何像程序员一样思考。\n",
    "\n",
    "我知道艾伦唐尼(Allen Downey)写的《Think Python》这本书，里面包含了学习正确编程的所 有关键要素。然而，这本书是基于Python编程语言的。我的课程笔记初稿是各种参考著作的大熔 炉，但我写得越久，内容就越像Think Python的章节。很快，把我的课程笔记作为那本书的移植移植 给Julia的想法就实现了。\n",
    "\n",
    "  所有的资料都可以在GitHub存储库中以jupyter notebook的形式找到。当我在Julia Discourse 网站上发布了关于我课程进展的信息后，反馈铺天盖地。一本以Julia作为第一种编程语言的关于基 本编程概念的书显然是Julia领域中缺失的一环。我联系了Allen，问他我是否可以给julia开通一个 Think Python的官方网站，他立刻回答道:“去吧!他让我与他在奥莱利传媒(O 'Reilly Media)的编辑取 得联系，一年后，我正在对这本书进行最后的润色。\n",
    "\n",
    "这是一段颠簸的旅程。2018年8月，Julia v1.0发布了，和我所有的Julia程序员一样，我不得不 对代码进行迁移。书中的所有示例都在源文件转换到与O ' reilly兼容的AsciiDoc文件期间进行了测 试。工具链和示例代码都必须与Julia v1.0兼容。幸运的是，8月份没有讲座......\n",
    "\n",
    "我希望你能喜欢和这本书一起工作，它能帮助你学会编程和像计算机科学家一样思考，至少是一点点。\n",
    "\n",
    "**BEN LAUWENS**"
   ]
  },
  {
   "cell_type": "markdown",
   "metadata": {},
   "source": [
    "*****\n",
    "## 为什么是Julia?\n",
    "Julia最初于2012年由Alan Edelman, Stefan Karpinski, Jeff Bezanson和Viral Shah发布。它是一种免费的开源编程语言。\n",
    "选择一种编程语言总是主观的。\n",
    "\n",
    "在我看来，Julia的以下特点是决定性的:\n",
    "\n",
    "- Julia是作为高性能编程语言开发的。\n",
    "- Julia使用多重派发，这允许程序员从适合应用程序的不同编程模式中进行选择。\n",
    "- Julia是一种动态语言，可以很容欧的进行交互。\n",
    "- Julia有一个很容易学习的高级语法。\n",
    "- Julia是一种可选类型的编程语言，它的(用户定义的)数据类型使代码更清晰、更强大。\n",
    "- Julia有一个扩展的标准库，并且有许多第三方包可用。\n",
    "\n",
    "Julia是一种独特的编程语言，因为它解决了所谓的“两种语言问题”。不需要其他编程语言来编写高 性能代码。这并不意味着它会自动发生。程序员的责任是优化形成瓶颈的代码，但这可以在Julia中 完成。"
   ]
  },
  {
   "cell_type": "markdown",
   "metadata": {},
   "source": [
    "*********\n",
    "## Who is this book for?\n",
    "这本书适合任何想要学习编程的人。不需要正式的先验知识。新概念将逐步引入，更高级的主题将 在后面的章节中进行描述。Think Julia 可以在高中或者大学上一个学期的课程。\n"
   ]
  },
  {
   "cell_type": "markdown",
   "metadata": {},
   "source": [
    "********\n",
    "## Conventions Used in This Book\n",
    "本书使用了以下排印约定:\n",
    "\n",
    "_斜体_\n",
    "\n",
    "指示新的术语、url、电子邮件地址、文件名和文件扩展名。\n",
    "\n",
    "`constant with`\n",
    "\n",
    "用于程序清单，以及在段落中引用程序元素，如变量或函数名、数据库、数据类型、环境变量、语 句和关键字。\n",
    "\n",
    "`Constant with italic`\n",
    "\n",
    "显示应由用户提供的值或由上下文确定的值替换的文本。\n",
    "\n",
    "TIP\n",
    "\n",
    "建议\n",
    "\n",
    "Note\n",
    "\n",
    "Warning"
   ]
  },
  {
   "cell_type": "markdown",
   "metadata": {},
   "source": [
    "**************\n",
    "## 使用的案例代码\n",
    "本书中使用的所有代码都可以在GitHub上的Git仓库中找到:https://github.com/BenLauwens/ThinkJulia.jl\n",
    "如果您不熟悉Git，它是一个版本控制系统，允许您跟踪组成项目的文件。Git控制下的文件集合称为“仓库”。GitHub是一个托管服务，为Git仓库提供存储和方便的web界面。\n",
    "\n",
    "提供了一个方便的包，可以直接添加到Julia。只要输入`add https://github.com/ BenLauwens/ThinkJulia.jl` 在Julia的REPL中。\n",
    "\n",
    "运行Julia代码最简单的方法是访问https://juliabox.com， notebook接口都是可用的。如果你想将Julia本地安装在你的电脑上，你可以从Julia Computing免费 下载JuliaPro。它由一个最新的Julia版本、基于Atom的Juno交互式开发环境和许多预安装的Julia包 组成。如果您更喜欢冒险，可以从https://julialang.org\n",
    "下载Julia，\n",
    "安装您喜欢的编辑器(例如， Atom或Visual Studio代码)，并激活用于Julia集成的插件。要进行本地安装，你也可以添加IJulia包， 并在你的电脑上运行一个Jupyter笔记本。\n"
   ]
  },
  {
   "cell_type": "markdown",
   "metadata": {},
   "source": [
    "***********\n",
    "# The way of Program\n",
    "这本书的目的是教你像计算机科学家一样思考。这种思维方式结合了数学、工程和自然科学的一些最好的特征。像数学家一样，计算机科学家使用形式化语言来表示思想(特别是计算)。像工程师一样，他们设计东西，将组件组装成系统，并评估各种选择之间的取舍。像科学家一样，他们观察复杂系统的行为，形成假设，并测试预测。\n",
    "\n",
    "对计算机科学家来说，最重要的技能是解决问题。问题解决能力指的是有能力提出问题，创造性地思考解决方案，清晰准确地表达解决方案。事实证明，学习编程的过程是练习解决问题技巧的绝佳机会。这就是为什么这一章被称为“程序之路”。\n",
    "    \n",
    "在某种程度上，你将学习编程，这本身就是一项有用的技能。在另一个层面上，你将把编程作为达到目的的一种手段。随着我们的推进，这一目标将变得更加清晰。\n"
   ]
  },
  {
   "cell_type": "markdown",
   "metadata": {},
   "source": [
    "***********\n",
    "## what is program?\n",
    "程序是指定如何执行计算的指令序列。这种计算可能是数学计算，比如解方程组或找到多项式的根，但也可能是符号计算，比如搜索和替换文档中的文本，或者是图形计算，比如处理图像或播放视频。\n",
    "\n",
    "细节在不同的语言中看起来不同，但一些基本的指令出现在几乎每种语言中:\n",
    "\n",
    "**输入**\n",
    "\n",
    "从键盘、文件、网络或其他设备获取数据。\n",
    "\n",
    "**输出**\n",
    "\n",
    "在屏幕上显示数据，保存在文件中，通过网络发送，等等。\n",
    "\n",
    "**数学**\n",
    "\n",
    "执行基本的数学运算，如加法和乘法。\n",
    "\n",
    "**条件执行**\n",
    "\n",
    "检查某些条件并运行适当的代码。\n",
    "\n",
    "**重复**\n",
    "\n",
    "重复执行某个动作，通常会有一些变化。\n",
    "\n",
    "信不信由你，这差不多就是全部了。你用过的每一个程序，不管多么复杂，都是由类似于这些的指令组成的。所以你可以把编程看作是把一个大的、复杂的任务分解成越来越小的子任务的过程，直到子任务简单到可以用这些基本指令之一来执行为止。"
   ]
  },
  {
   "cell_type": "markdown",
   "metadata": {},
   "source": [
    "*********\n",
    "## Runing Julia\n",
    "开始使用Julia的一个挑战是，您可能不得不在计算机上安装它和相关软件。如果您熟悉操作系统，尤其是熟悉命令行界面，那么安装Julia将不会有任何问题。但是对于初学者来说，同时学习系统管理和编程可能是痛苦的。\n",
    "\n",
    "为了避免这个问题，我建议您从在浏览器中运行Julia开始。稍后，当您对Julia感到满意时，我将提出在您的计算机上安装Julia的建议。\n",
    "\n",
    "在浏览器中，你可以在JuliaBox上运行Julia。不需要安装—只需将浏览器指向那里，登录，并开始计算(参见JuliaBox)。\n",
    "\n",
    "Julia REPL (Read-Eval-PrintLoop)是一个读取和执行Julia代码的程序。您可以通过在JuliaBox上打开终端并在命令行中输入julia来启动REPL。当它启动时，你应该看到如下输出:\n",
    "```\n",
    "               _\n",
    "   _       _ _(_)_     |  Documentation: https://docs.julialang.org\n",
    "  (_)     | (_) (_)    |\n",
    "   _ _   _| |_  __ _   |  Type \"?\" for help, \"]?\" for Pkg help.\n",
    "  | | | | | | |/ _` |  |\n",
    "  | | |_| | | | (_| |  |  Version 1.1.0 (2019-01-21)\n",
    " _/ |\\__'_|_|_|\\__'_|  |  Official https://julialang.org/ release\n",
    "|__/                   |\n",
    "\n",
    "julia>\n",
    "```\n",
    "\n",
    "```\n",
    "julia> 1 + 1\n",
    "2\n",
    "```"
   ]
  },
  {
   "cell_type": "markdown",
   "metadata": {},
   "source": [
    "******\n",
    "## The first program\n",
    "传统上，用一种新语言编写的第一个程序叫做“Hello, World!”因为它所做的只是显示“Hello, World!”在Julia中，它是这样的:\n"
   ]
  },
  {
   "cell_type": "code",
   "execution_count": 49,
   "metadata": {},
   "outputs": [
    {
     "name": "stdout",
     "output_type": "stream",
     "text": [
      "Hello, World!\n"
     ]
    }
   ],
   "source": [
    "println(\"Hello, World!\")"
   ]
  },
  {
   "cell_type": "markdown",
   "metadata": {},
   "source": [
    "这是一个print语句的示例，尽管它实际上并没有在纸上打印任何东西。它在屏幕上显示结果。\n",
    "\n",
    "程序中的引号标明要显示的文本的开始和结束;它们不会出现在结果中。\n",
    "\n",
    "括号表明println是一个函数。我们会讲到函数中的函数。"
   ]
  },
  {
   "cell_type": "markdown",
   "metadata": {},
   "source": [
    "***********\n",
    "## Arithmetic Operators\n",
    "在\"Hello, World!\"下一步是算术。Julia提供了运算符，运算符是表示像加法和乘法这样的计算的符号。\n",
    "\n",
    "操作符+、-和*执行加法、减法和乘法，如下例所示:"
   ]
  },
  {
   "cell_type": "code",
   "execution_count": 50,
   "metadata": {},
   "outputs": [
    {
     "data": {
      "text/plain": [
       "42"
      ]
     },
     "execution_count": 50,
     "metadata": {},
     "output_type": "execute_result"
    }
   ],
   "source": [
    "40 + 2"
   ]
  },
  {
   "cell_type": "code",
   "execution_count": 51,
   "metadata": {},
   "outputs": [
    {
     "data": {
      "text/plain": [
       "42"
      ]
     },
     "execution_count": 51,
     "metadata": {},
     "output_type": "execute_result"
    }
   ],
   "source": [
    "43 - 1"
   ]
  },
  {
   "cell_type": "code",
   "execution_count": 52,
   "metadata": {},
   "outputs": [
    {
     "data": {
      "text/plain": [
       "42"
      ]
     },
     "execution_count": 52,
     "metadata": {},
     "output_type": "execute_result"
    }
   ],
   "source": [
    "6 * 7"
   ]
  },
  {
   "cell_type": "code",
   "execution_count": 53,
   "metadata": {},
   "outputs": [
    {
     "data": {
      "text/plain": [
       "12.0"
      ]
     },
     "execution_count": 53,
     "metadata": {},
     "output_type": "execute_result"
    }
   ],
   "source": [
    "84 / 7"
   ]
  },
  {
   "cell_type": "code",
   "execution_count": 54,
   "metadata": {},
   "outputs": [
    {
     "data": {
      "text/plain": [
       "42"
      ]
     },
     "execution_count": 54,
     "metadata": {},
     "output_type": "execute_result"
    }
   ],
   "source": [
    "6^2 + 6"
   ]
  },
  {
   "cell_type": "markdown",
   "metadata": {},
   "source": [
    "*****\n",
    "## Values and Types\n",
    "值是程序处理的基本东西之一，就像字母或数字一样。到目前为止，我们看到的一些值是2,42.0和“Hello, World!”\n",
    "\n",
    "这些值属于不同的类型:2是一个整数，42.0是一个浮点数，“Hello, World!”是一个字符串，之所以这样称呼是因为它包含的字母是串在一起的。\n",
    "\n",
    "如果你不确定一个值的类型，REPL可以告诉你:"
   ]
  },
  {
   "cell_type": "code",
   "execution_count": 55,
   "metadata": {},
   "outputs": [
    {
     "data": {
      "text/plain": [
       "Int64"
      ]
     },
     "execution_count": 55,
     "metadata": {},
     "output_type": "execute_result"
    }
   ],
   "source": [
    "typeof(2)"
   ]
  },
  {
   "cell_type": "code",
   "execution_count": 56,
   "metadata": {},
   "outputs": [
    {
     "data": {
      "text/plain": [
       "Float64"
      ]
     },
     "execution_count": 56,
     "metadata": {},
     "output_type": "execute_result"
    }
   ],
   "source": [
    "typeof(42.0)"
   ]
  },
  {
   "cell_type": "code",
   "execution_count": 57,
   "metadata": {},
   "outputs": [
    {
     "data": {
      "text/plain": [
       "String"
      ]
     },
     "execution_count": 57,
     "metadata": {},
     "output_type": "execute_result"
    }
   ],
   "source": [
    "typeof(\"Hello, world!\")"
   ]
  },
  {
   "cell_type": "markdown",
   "metadata": {},
   "source": [
    "整数属于Int64类型，字符串属于String类型，浮点数属于Float64类型。\n",
    "\n",
    "那么像“2”和“42.0”这样的值呢?它们看起来像数字，但它们像字符串一样用引号括起来。这些也是字符串:"
   ]
  },
  {
   "cell_type": "code",
   "execution_count": 58,
   "metadata": {},
   "outputs": [
    {
     "data": {
      "text/plain": [
       "String"
      ]
     },
     "execution_count": 58,
     "metadata": {},
     "output_type": "execute_result"
    }
   ],
   "source": [
    "typeof(\"2\")"
   ]
  },
  {
   "cell_type": "markdown",
   "metadata": {},
   "source": [
    "当您键入一个较大的整数时，您可能会在一组数字之间使用逗号，例如在1,000,000中。这在Julia中不是一个合法的整数，但它是合法的:"
   ]
  },
  {
   "cell_type": "code",
   "execution_count": 59,
   "metadata": {},
   "outputs": [
    {
     "data": {
      "text/plain": [
       "(1, 0, 0)"
      ]
     },
     "execution_count": 59,
     "metadata": {},
     "output_type": "execute_result"
    }
   ],
   "source": [
    "1,000,000"
   ]
  },
  {
   "cell_type": "markdown",
   "metadata": {},
   "source": [
    "那根本不是我们所期望的!Julia将1,000,000作为逗号分隔的整数序列进行解析。稍后我们将学习更多关于这种序列的知识。但是，您可以使用1_000_000获得预期的结果。"
   ]
  },
  {
   "cell_type": "code",
   "execution_count": 60,
   "metadata": {},
   "outputs": [
    {
     "data": {
      "text/plain": [
       "1000000"
      ]
     },
     "execution_count": 60,
     "metadata": {},
     "output_type": "execute_result"
    }
   ],
   "source": [
    "1_000_000"
   ]
  },
  {
   "cell_type": "markdown",
   "metadata": {},
   "source": [
    "*********\n",
    "## Formal and Natural Languages\n",
    "自然语言是人们说的语言，如英语、西班牙语和法语。它们不是由人设计的(尽管人们试图给它们强加一些秩序);他们自然进化。\n",
    "\n",
    "形式语言是人们为特定应用程序设计的语言。例如，数学家使用的符号是一种形式语言，特别擅长表示数字和符号之间的关系。化学家用一种形式语言来表示分子的化学结构。最重要的是，编程语言是被设计用来表达计算的形式语言。\n",
    "\n",
    "形式语言倾向于有严格的语法规则来控制语句的结构。例如，在数学中，语句3+3=6有正确的语法，但3+=3$6却没有。在化学中，H2O是一个语法正确的分子式，但2Zz不是。\n",
    "\n",
    "语法规则有两种形式，用于修饰标记和结构。标记是语言的基本元素，如单词、数字和化学元素。3+=3$6的一个问题是，$在数学上不是一个合法的代币(至少据我所知)。同样，2Zz也不合法，因为没有包含缩写Zz的元素。\n",
    "\n",
    "第二种类型的语法规则与令牌的组合方式有关。等式3+=3是非法的，因为即使+和=是合法的代币，你也不能一个接一个。同样，在化学公式中，下标是在元素名之后，而不是在元素名之前。\n",
    "\n",
    "这是一个结构良好的英语$h句子，里面有无效的t*kens。这个句子所有有效的符号都有，但是无效的结构有。\n",
    "\n",
    "当你读一个英语句子或一个正式语言的陈述时，你必须弄清楚其结构(尽管在自然语言中你会下意识地做这件事)。这个过程称为解析。\n",
    "\n",
    "尽管正式语言和自然语言在共同的方面有许多特性——标记、结构和语法——但它们也有一些区别:\n",
    "\n",
    "**Ambiguity(模糊)**\n",
    "\n",
    "自然语言中充满了歧义，人们利用语境线索等信息来处理歧义。形式语言被设计成几乎或完全没有歧义，这意味着无论上下文如何，任何语句都只有一个意思。\n",
    "\n",
    "**冗余**\n",
    "\n",
    "为了弥补歧义和减少误解，自然语言使用了大量的冗余。因此，它们常常是冗长的。正式语言不那么冗余，更简洁。\n",
    "\n",
    "**表面意义**\n",
    "\n",
    "自然语言中充满了习语和隐喻。如果我说“The penny dropped”，很可能是没有硬币，什么都没掉(这个习语的意思是某人在一段时间的困惑之后理解了某事)。正式语言的意思就是他们所说的。\n",
    "\n",
    "因为我们从小都说自然语言，所以有时很难适应正式语言。正式语言和自然语言之间的区别就像诗歌和散文之间的区别，但更多的是:\n",
    "\n",
    "**诗歌**\n",
    "\n",
    "词语的读音和意义都被使用，整首诗一起创造了一种效果或情感反应。模棱两可不仅常见，而且常常是有意为之。\n",
    "\n",
    "**散文**\n",
    "\n",
    "单词的字面意义更重要，结构也能提供更多的意义。散文比诗歌更容易分析，但仍然常常模棱两可。\n",
    "\n",
    "**项目**\n",
    "\n",
    "计算机程序的意义是明确的和文字的，可以完全通过对符号和结构的分析来理解。\n",
    "\n",
    "正式语言比自然语言更密集，因此需要更长的时间来阅读它们。此外，结构很重要，所以从上到下、从左到右阅读并不总是最好的。相反，您将学习在头脑中解析程序，识别标记并解释结构。最后，细节很重要。拼写和标点符号上的小错误在自然语言中是可以避免的，但在正式语言中却会产生很大的不同。"
   ]
  },
  {
   "cell_type": "markdown",
   "metadata": {},
   "source": [
    "*******\n",
    "## Debugging\n",
    "\n",
    "程序员犯错误。出于异想天开的原因，编程错误被称为bug，而追踪它们的过程被称为调试。\n",
    "\n",
    "编程，尤其是调试，有时会引发强烈的情绪。如果你正在和一个难以对付的虫子做斗争，你可能会感到愤怒、沮丧或尴尬。\n",
    "\n",
    "有证据表明，人们对电脑的反应很自然，就好像电脑是人一样。当他们工作出色时，我们把他们当作队友，当他们固执或粗鲁时，我们用对待粗鲁、固执的人的方式来回应他们\n",
    "\n",
    "为这些反应做好准备可能会帮助你应对它们。一种方法是把电脑想象成拥有某些优势(比如速度和精度)的员工，以及某些特定弱点(比如缺乏同情心和无法把握大局)的员工。\n",
    "\n",
    "你的工作是成为一名优秀的管理者:想办法利用优势，减少劣势。找到利用你的情绪来解决问题的方法，而不让你的反应影响你有效工作的能力。\n",
    "\n",
    "学习调试可能会令人沮丧，但这是一项宝贵的技能，除了编程之外，它对许多活动都很有用。在每一章的末尾都有一节，就像本文一样，介绍了我对调试的建议。我希望他们能帮上忙!"
   ]
  },
  {
   "cell_type": "markdown",
   "metadata": {},
   "source": [
    "*******\n",
    "## Glossary 术语表\n",
    "解决问题\n",
    "\n",
    "阐述一个问题、找到解决方案并表达出来的过程。\n",
    "\n",
    "程序\n",
    "\n",
    "指定一种计算的指令序列。\n",
    "\n",
    "REPL\n",
    "\n",
    "重复读取输入、执行输入并输出结果的程序。\n",
    "\n",
    "提示\n",
    "\n",
    "REPL显示的字符，表明它已经准备好接受用户的输入。\n",
    "\n",
    "print语句\n",
    "\n",
    "使Julia REPL在屏幕上显示一个值的指令。\n",
    "\n",
    "操作符\n",
    "\n",
    "一种表示简单计算的符号，如加法、乘法或字符串连接。\n",
    "\n",
    "值\n",
    "\n",
    "一种基本的数据单位，如数字或字符串，由程序操作。\n",
    "\n",
    "类型\n",
    "\n",
    "数值的一类。到目前为止，我们看到的类型有整数(Int64)、浮点数(Float64)和字符串(String)。\n",
    "\n",
    "整数\n",
    "\n",
    "一种表示整数的类型。\n",
    "\n",
    "浮点\n",
    "\n",
    "一种表示带有小数点的数字的类型。\n",
    "\n",
    "字符串\n",
    "\n",
    "一种表示字符序列的类型。\n",
    "\n",
    "自然语言\n",
    "\n",
    "任何一种人类自然进化的语言。\n",
    "\n",
    "正式的语言\n",
    "\n",
    "一种人们为特定目的而设计的语言，如表示数学思想或计算机程序。所有的编程语言都是形式语言。\n",
    "\n",
    "语法\n",
    "\n",
    "控制程序结构的规则。\n",
    "\n",
    "令牌\n",
    "\n",
    "程序语法结构的基本元素之一，类似于自然语言中的词。\n",
    "\n",
    "结构\n",
    "\n",
    "令牌组合的方式。\n",
    "\n",
    "解析\n",
    "\n",
    "检查一个程序并分析其语法结构。\n",
    "\n",
    "错误\n",
    "程序中的错误。\n",
    "\n",
    "调试\n",
    "发现并纠正错误的过程。"
   ]
  },
  {
   "cell_type": "markdown",
   "metadata": {},
   "source": [
    "****\n",
    "## Variables, Expressions and Statements\n",
    "编程语言最强大的特性之一是操纵变量的能力。变量是指一个值的名称。\n",
    "\n",
    "_**赋值语句**_\n",
    "\n",
    "赋值语句创建一个新变量并为其赋值:"
   ]
  },
  {
   "cell_type": "code",
   "execution_count": 61,
   "metadata": {},
   "outputs": [
    {
     "data": {
      "text/plain": [
       "3.141592653589793"
      ]
     },
     "execution_count": 61,
     "metadata": {},
     "output_type": "execute_result"
    }
   ],
   "source": [
    "message = \"And now for something completely different\"\n",
    "n = 17\n",
    "π_val = 3.141592653589793"
   ]
  },
  {
   "cell_type": "markdown",
   "metadata": {},
   "source": [
    "这个例子做了三个作业。第一个函数将一个字符串赋值给名为message的新变量;第二个是整数17到n;第三个将π的(近似)值赋给π_val (\\pi TAB)。"
   ]
  },
  {
   "cell_type": "markdown",
   "metadata": {},
   "source": [
    "****\n",
    "## 变量名\n",
    "程序员通常为变量选择有意义的名称——他们记录变量的用途。\n",
    "\n",
    "变量名可以任意设置。它们可以包含几乎所有的Unicode字符(参见字符)，但它们不能以数字开头。使用大写字母是合法的，但通常只使用小写的变量名。\n",
    "\n",
    "Unicode字符可以通过在Julia REPL中使用类似于乳胶的缩写的制表符完成输入。\n",
    "\n",
    "下划线“_”可以出现在名称中。它经常用于带有多个单词的名字中，如your_name或airspeed_of_unladen_swallow。\n",
    "\n",
    "如果你给一个变量一个非法的名字，你会得到一个语法错误:"
   ]
  },
  {
   "cell_type": "code",
   "execution_count": 62,
   "metadata": {},
   "outputs": [
    {
     "ename": "LoadError",
     "evalue": "syntax: \"76\" is not a valid function argument name around In[62]:1",
     "output_type": "error",
     "traceback": [
      "syntax: \"76\" is not a valid function argument name around In[62]:1",
      "",
      "Stacktrace:",
      " [1] top-level scope at In[62]:1",
      " [2] include_string(::Function, ::Module, ::String, ::String) at ./loading.jl:1091"
     ]
    }
   ],
   "source": [
    "76trombones = \"big parade\""
   ]
  },
  {
   "cell_type": "code",
   "execution_count": 63,
   "metadata": {},
   "outputs": [
    {
     "ename": "LoadError",
     "evalue": "syntax: extra token \"@\" after end of expression",
     "output_type": "error",
     "traceback": [
      "syntax: extra token \"@\" after end of expression",
      "",
      "Stacktrace:",
      " [1] top-level scope at In[63]:1",
      " [2] include_string(::Function, ::Module, ::String, ::String) at ./loading.jl:1091"
     ]
    }
   ],
   "source": [
    "more@ = 1000000"
   ]
  },
  {
   "cell_type": "code",
   "execution_count": 64,
   "metadata": {},
   "outputs": [
    {
     "ename": "LoadError",
     "evalue": "syntax: unexpected \"=\"",
     "output_type": "error",
     "traceback": [
      "syntax: unexpected \"=\"",
      "",
      "Stacktrace:",
      " [1] top-level scope at In[64]:1",
      " [2] include_string(::Function, ::Module, ::String, ::String) at ./loading.jl:1091"
     ]
    }
   ],
   "source": [
    "struct = \"Advanced Theoretical Zymurgy\""
   ]
  },
  {
   "cell_type": "markdown",
   "metadata": {},
   "source": [
    "76trombones是非法的，因为它是以数字开头的。more@是非法的，因为它包含一个非法字符@。但是struct有什么问题吗?\n",
    "\n",
    "原来struct是Julia的关键字之一。REPL使用关键字来识别程序的结构，它们不能用作变量名。\n",
    "\n",
    "Julia有这些关键词:\n",
    "```\n",
    "abstract type    baremodule   begin      break       catch\n",
    "const            continue     do         else        elseif\n",
    "end              export       finally    for         function\n",
    "global           if           import     importall   in\n",
    "let              local        macro      module      mutable struct\n",
    "primitive type   quote        return     try         using\n",
    "struct           where        while\n",
    "```"
   ]
  },
  {
   "cell_type": "markdown",
   "metadata": {},
   "source": [
    "你不需要记住这个列表。在大多数开发环境中，关键词以不同的颜色显示;如果您尝试使用one作为变量名，您就会知道。"
   ]
  },
  {
   "cell_type": "markdown",
   "metadata": {},
   "source": [
    "****\n",
    "## Expressions and Statements\n",
    "表达式是值、变量和操作符的组合。一个值本身就被认为是一个表达式，变量也是，所以下面的表达式都是合法的:"
   ]
  },
  {
   "cell_type": "code",
   "execution_count": 65,
   "metadata": {},
   "outputs": [
    {
     "data": {
      "text/plain": [
       "42"
      ]
     },
     "execution_count": 65,
     "metadata": {},
     "output_type": "execute_result"
    }
   ],
   "source": [
    "42"
   ]
  },
  {
   "cell_type": "code",
   "execution_count": 66,
   "metadata": {},
   "outputs": [
    {
     "data": {
      "text/plain": [
       "17"
      ]
     },
     "execution_count": 66,
     "metadata": {},
     "output_type": "execute_result"
    }
   ],
   "source": [
    "n"
   ]
  },
  {
   "cell_type": "code",
   "execution_count": 67,
   "metadata": {},
   "outputs": [
    {
     "data": {
      "text/plain": [
       "42"
      ]
     },
     "execution_count": 67,
     "metadata": {},
     "output_type": "execute_result"
    }
   ],
   "source": [
    "n + 25"
   ]
  },
  {
   "cell_type": "markdown",
   "metadata": {},
   "source": [
    "当您在提示符处输入表达式时，REPL会对其进行计算，这意味着它会找到表达式的值。本例中，n为17,n + 25为42。\n",
    "\n",
    "语句是具有效果的代码单元，如创建变量或显示值。"
   ]
  },
  {
   "cell_type": "code",
   "execution_count": 68,
   "metadata": {},
   "outputs": [
    {
     "name": "stdout",
     "output_type": "stream",
     "text": [
      "17\n"
     ]
    }
   ],
   "source": [
    "n = 17\n",
    "println(n)"
   ]
  },
  {
   "cell_type": "markdown",
   "metadata": {},
   "source": [
    "第一行是赋值语句，给n赋值。第二行是打印语句，显示n的值。\n",
    "\n",
    "当您键入一条语句时，REPL将执行该语句，这意味着它将执行该语句所说的任何内容。"
   ]
  },
  {
   "cell_type": "markdown",
   "metadata": {},
   "source": [
    "*******\n",
    "## Script Mode\n",
    "到目前为止，我们已经在交互模式下运行了Julia，这意味着您可以直接与REPL交互。交互模式是一种很好的入门方式，但如果您要处理的代码超过几行，它可能会很笨拙。\n",
    "\n",
    "另一种方法是将代码保存在一个称为脚本的文件中，然后以脚本模式运行Julia来执行脚本。按照惯例，Julia脚本的名称以.jl结尾。\n",
    "\n",
    "如果您知道如何在计算机上创建和运行脚本，那么就可以开始了。否则我建议再次使用JuliaBox。打开一个文本文件，编写脚本并使用.jl扩展名保存。可以在终端使用命令julia name_of_the_script.jl执行该脚本。\n",
    "\n",
    "因为Julia提供了两种模式，所以在将代码放入脚本之前，可以在交互模式下测试代码。但是，交互模式和脚本模式之间的差异可能会让人感到困惑。\n",
    "\n",
    "例如，如果你用Julia作为计算器，你可以打字:"
   ]
  },
  {
   "cell_type": "code",
   "execution_count": 69,
   "metadata": {},
   "outputs": [
    {
     "data": {
      "text/plain": [
       "26.2"
      ]
     },
     "execution_count": 69,
     "metadata": {},
     "output_type": "execute_result"
    }
   ],
   "source": [
    "miles = 26.2"
   ]
  },
  {
   "cell_type": "code",
   "execution_count": 70,
   "metadata": {},
   "outputs": [
    {
     "data": {
      "text/plain": [
       "42.182"
      ]
     },
     "execution_count": 70,
     "metadata": {},
     "output_type": "execute_result"
    }
   ],
   "source": [
    "miles * 1.61"
   ]
  },
  {
   "cell_type": "markdown",
   "metadata": {},
   "source": [
    "第一行为miles赋值并显示该值。第二行是一个表达式，因此REPL对其进行计算并显示结果。原来马拉松大约是42公里。\n",
    "\n",
    "但是，如果您在脚本中输入相同的代码并运行它，则根本不会得到任何输出。在脚本模式下，表达式本身没有可见的效果。Julia实际上对表达式求值，但它不会显示值，除非你告诉它:\n",
    "```julia\n",
    "miles = 26.2\n",
    "println(miles * 1.61)\n",
    "```\n",
    "这种行为一开始可能会让人困惑。\n",
    "\n",
    "一个脚本通常包含一系列语句。如果有多个语句，则在语句执行时，结果一次显示一个。\n",
    "\n",
    "例如，脚本:\n",
    "```julia\n",
    "println(1)\n",
    "x = 2\n",
    "println(x)\n",
    "```\n",
    "生成的输出\n",
    "```julia\n",
    "1\n",
    "2\n",
    "```"
   ]
  },
  {
   "cell_type": "markdown",
   "metadata": {},
   "source": [
    "*****\n",
    "## 运算符优先级\n",
    "当表达式包含多个操作符时，求值顺序取决于操作符的优先级。对于数学运算符，Julia遵循数学惯例。首字母缩写PEMDAS是一个很有用的记忆规则的方法:\n",
    "\n",
    "- 括号具有最高的优先级，可用于强制表达式按您想要的顺序求值。因为括号中的表达式是先求值的，所以`2*(3-1)`是4，`(1+1)^(5-2)`是8。你也可以使用括号使表达式更容易阅读，例如`(minute * 100) / 60`，即使它不会改变结果。\n",
    "- 取幂的优先级次高，所以1+2^3是9，不是27,2*3^2是18，不是36。\n",
    "\n",
    "- 乘法和除法的优先级高于加法和减法。所以2*3-1是5，不是4 6+4/2是8，不是5。\n",
    "\n",
    "- 具有相同优先级的操作符从左到右计算(除取幂运算外)。因此，在`degrees/ 2 *π`表达式中，先进行除法，结果再乘以π。要除以2π，可以用括号，写上`degrees/ 2 /π`或`degrees/ 2π`。\n",
    "\n",
    "> 我不怎么努力去记住运算符的优先级。如果我不能通过看表达式来判断，我用括号使它更明显。"
   ]
  },
  {
   "cell_type": "markdown",
   "metadata": {},
   "source": [
    "******\n",
    "## String Operations\n",
    "通常，你不能对字符串执行数学运算，即使字符串看起来像数字，所以下面的操作是非法的:\n",
    "```julia\n",
    "\"2\" - \"1\"    \"eggs\" / \"easy\"    \"third\" + \"a charm\"\n",
    "```\n",
    "但是有两个例外，*和^。\n",
    "\n",
    "*操作符执行字符串连接，这意味着它通过端到端连接字符串来连接字符串。例如:"
   ]
  },
  {
   "cell_type": "code",
   "execution_count": 71,
   "metadata": {},
   "outputs": [
    {
     "data": {
      "text/plain": [
       "\"throatwarbler\""
      ]
     },
     "execution_count": 71,
     "metadata": {},
     "output_type": "execute_result"
    }
   ],
   "source": [
    "first_str = \"throat\"\n",
    "second_str = \"warbler\"\n",
    "first_str * second_str"
   ]
  },
  {
   "cell_type": "markdown",
   "metadata": {},
   "source": [
    "^运算符也适用于字符串;它执行重复。例如，`\"Spam\"^3`是`\"SpamSpamSpam\"`。如果其中一个值是字符串，另一个值必须是整数。\n",
    "\n",
    "*和^的用法与乘法和取幂类似。正如4^3等价于4*4*4一样，我们认为`\"Spam\"^3`与`\"Spam\"`*`\"Spam*Spam\"`相同，事实也是如此。"
   ]
  },
  {
   "cell_type": "markdown",
   "metadata": {},
   "source": [
    "*****\n",
    "## 注释\n",
    "随着程序变得越来越大、越来越复杂，阅读起来也越来越困难。形式语言是密集的，通常很难看到一段代码并弄清楚它在做什么，或者为什么要这样做。\n",
    "\n",
    "出于这个原因，在程序中添加注释以用自然语言解释程序正在做什么是一个好主意。这些注释被称为注释，它们以#符号开头:\n",
    "\n",
    "```julia\n",
    "# compute the percentage of the hour that has elapsed\n",
    "percentage = (minute * 100) / 60\n",
    "```\n",
    "在本例中，注释单独出现在一行中。你也可以把注释放在一行的末尾:\n",
    "\n",
    "```julia\n",
    "percentage = (minute * 100) / 60   # percentage of an hour\n",
    "```\n",
    "从#到行尾的所有内容都将被忽略——它对程序的执行没有影响。\n",
    "\n",
    "注释在记录代码的非明显特性时最有用。我们有理由认为读者可以知道代码的作用;解释为什么更有用。\n",
    "\n",
    "这条注释是多余的，没有用的:\n",
    "```julia\n",
    "v = 5   # assign 5 to v\n",
    "```\n",
    "这个注释包含了代码中没有的有用信息:\n",
    "\n",
    "```julia\n",
    "v = 5   # velocity in meters/second.\n",
    "```"
   ]
  },
  {
   "cell_type": "markdown",
   "metadata": {},
   "source": [
    "****\n",
    "# 函数\n",
    "在程序设计上下文中，函数是执行计算的命名语句序列。定义函数时，要指定名称和语句序列。稍后，您可以通过名称来调用函数。\n"
   ]
  },
  {
   "cell_type": "markdown",
   "metadata": {},
   "source": [
    "****\n",
    "## 函数调用\n",
    "我们已经看到了一个函数调用的例子:"
   ]
  },
  {
   "cell_type": "code",
   "execution_count": 72,
   "metadata": {},
   "outputs": [
    {
     "name": "stdout",
     "output_type": "stream",
     "text": [
      "Hello, World!\n"
     ]
    }
   ],
   "source": [
    "println(\"Hello, World!\")"
   ]
  },
  {
   "cell_type": "markdown",
   "metadata": {},
   "source": [
    "函数名是println。括号中的表达式称为函数的实参。\n",
    "\n",
    "通常说函数“接受”一个参数并“返回”一个结果。结果也称为返回值。\n",
    "\n",
    "Julia提供了将值从一种类型转换为另一种类型的函数。parse函数接受一个字符串，并将其转换为任何数字类型(如果可以的话)，否则会报错:"
   ]
  },
  {
   "cell_type": "code",
   "execution_count": 73,
   "metadata": {},
   "outputs": [
    {
     "data": {
      "text/plain": [
       "32"
      ]
     },
     "execution_count": 73,
     "metadata": {},
     "output_type": "execute_result"
    }
   ],
   "source": [
    "parse(Int64, \"32\")"
   ]
  },
  {
   "cell_type": "code",
   "execution_count": 74,
   "metadata": {},
   "outputs": [
    {
     "data": {
      "text/plain": [
       "3.14159"
      ]
     },
     "execution_count": 74,
     "metadata": {},
     "output_type": "execute_result"
    }
   ],
   "source": [
    "parse(Float64, \"3.14159\")"
   ]
  },
  {
   "cell_type": "code",
   "execution_count": 75,
   "metadata": {},
   "outputs": [
    {
     "ename": "LoadError",
     "evalue": "ArgumentError: invalid base 10 digit 'H' in \"Hello\"",
     "output_type": "error",
     "traceback": [
      "ArgumentError: invalid base 10 digit 'H' in \"Hello\"",
      "",
      "Stacktrace:",
      " [1] tryparse_internal(::Type{Int64}, ::String, ::Int64, ::Int64, ::Int64, ::Bool) at ./parse.jl:132",
      " [2] parse(::Type{Int64}, ::String; base::Nothing) at ./parse.jl:238",
      " [3] parse(::Type{Int64}, ::String) at ./parse.jl:238",
      " [4] top-level scope at In[75]:1",
      " [5] include_string(::Function, ::Module, ::String, ::String) at ./loading.jl:1091"
     ]
    }
   ],
   "source": [
    " parse(Int64, \"Hello\")"
   ]
  },
  {
   "cell_type": "markdown",
   "metadata": {},
   "source": [
    "`trunc`可以将浮点值转换为整数，但不能四舍五入;它剪掉了部分:"
   ]
  },
  {
   "cell_type": "code",
   "execution_count": 76,
   "metadata": {},
   "outputs": [
    {
     "data": {
      "text/plain": [
       "3"
      ]
     },
     "execution_count": 76,
     "metadata": {},
     "output_type": "execute_result"
    }
   ],
   "source": [
    "trunc(Int64, 3.99999)"
   ]
  },
  {
   "cell_type": "code",
   "execution_count": 77,
   "metadata": {},
   "outputs": [
    {
     "data": {
      "text/plain": [
       "-2"
      ]
     },
     "execution_count": 77,
     "metadata": {},
     "output_type": "execute_result"
    }
   ],
   "source": [
    "trunc(Int64, -2.3)"
   ]
  },
  {
   "cell_type": "markdown",
   "metadata": {},
   "source": [
    "`float`将整数转换为浮点数:"
   ]
  },
  {
   "cell_type": "code",
   "execution_count": 78,
   "metadata": {},
   "outputs": [
    {
     "data": {
      "text/plain": [
       "32.0"
      ]
     },
     "execution_count": 78,
     "metadata": {},
     "output_type": "execute_result"
    }
   ],
   "source": [
    "float(32)"
   ]
  },
  {
   "cell_type": "markdown",
   "metadata": {},
   "source": [
    "最后，`string`将其参数转换为字符串:"
   ]
  },
  {
   "cell_type": "code",
   "execution_count": 79,
   "metadata": {},
   "outputs": [
    {
     "data": {
      "text/plain": [
       "\"3.14159\""
      ]
     },
     "execution_count": 79,
     "metadata": {},
     "output_type": "execute_result"
    }
   ],
   "source": [
    "string(3.14159)"
   ]
  },
  {
   "cell_type": "markdown",
   "metadata": {},
   "source": [
    "********\n",
    "## 数学函数\n",
    "在Julia中，大多数熟悉的数学函数都是直接可用的:\n",
    "\n",
    "\n",
    "第一个示例使用log10来计算以分贝为单位的信噪比(假设定义了signal_power和noise_power)。还提供了计算自然对数的对数。"
   ]
  },
  {
   "cell_type": "code",
   "execution_count": 80,
   "metadata": {},
   "outputs": [
    {
     "data": {
      "text/plain": [
       "1.0"
      ]
     },
     "execution_count": 80,
     "metadata": {},
     "output_type": "execute_result"
    }
   ],
   "source": [
    "log10(10)"
   ]
  },
  {
   "cell_type": "code",
   "execution_count": 81,
   "metadata": {},
   "outputs": [
    {
     "data": {
      "text/plain": [
       "0.644217687237691"
      ]
     },
     "execution_count": 81,
     "metadata": {},
     "output_type": "execute_result"
    }
   ],
   "source": [
    "sin(0.7)"
   ]
  },
  {
   "cell_type": "markdown",
   "metadata": {},
   "source": [
    "第二个例子是求弧度的正弦。变量的名字暗示了sin和其他三角函数(cos, tan等)的参数都是弧度。将角度转换为弧度，除以180再乘以π:"
   ]
  },
  {
   "cell_type": "code",
   "execution_count": 82,
   "metadata": {},
   "outputs": [
    {
     "data": {
      "text/plain": [
       "0.7071067811865475"
      ]
     },
     "execution_count": 82,
     "metadata": {},
     "output_type": "execute_result"
    }
   ],
   "source": [
    "degree = 45\n",
    "radians = degree / 180 * π\n",
    "sin(radians)"
   ]
  },
  {
   "cell_type": "markdown",
   "metadata": {},
   "source": [
    "变量π的值是π的一个浮点近似值，精确到16位左右。\n",
    "\n",
    "如果你知道三角函数，你可以通过比较2除以2的平方根来检查前面的结果:"
   ]
  },
  {
   "cell_type": "code",
   "execution_count": 83,
   "metadata": {},
   "outputs": [
    {
     "data": {
      "text/plain": [
       "0.7071067811865476"
      ]
     },
     "execution_count": 83,
     "metadata": {},
     "output_type": "execute_result"
    }
   ],
   "source": [
    "sqrt(2)/2"
   ]
  },
  {
   "cell_type": "markdown",
   "metadata": {},
   "source": [
    "*******\n",
    "## Composition\n",
    "到目前为止，我们已经单独研究了程序的元素——变量、表达式和语句，没有讨论如何组合它们。\n",
    "\n",
    "编程语言最有用的特性之一是它们能够使用小的构建块并组合它们。例如，函数的实参可以是任何类型的表达式，包括算术运算符:"
   ]
  },
  {
   "cell_type": "code",
   "execution_count": 84,
   "metadata": {},
   "outputs": [
    {
     "data": {
      "text/plain": [
       "0.7071067811865475"
      ]
     },
     "execution_count": 84,
     "metadata": {},
     "output_type": "execute_result"
    }
   ],
   "source": [
    "x = sin(degree / 360 * 2 * π)"
   ]
  },
  {
   "cell_type": "markdown",
   "metadata": {},
   "source": [
    "甚至函数调用:\n",
    "```julia\n",
    "x = exp(log(x))\n",
    "```\n",
    "几乎在任何可以放置值的地方，都可以放置任意表达式，只有一个例外:赋值语句的左侧必须是一个变量名。左边的任何其他表达式都是语法错误(稍后我们将看到此规则的例外)。"
   ]
  },
  {
   "cell_type": "code",
   "execution_count": 85,
   "metadata": {},
   "outputs": [
    {
     "ename": "LoadError",
     "evalue": "syntax: \"60\" is not a valid function argument name around In[85]:3",
     "output_type": "error",
     "traceback": [
      "syntax: \"60\" is not a valid function argument name around In[85]:3",
      "",
      "Stacktrace:",
      " [1] top-level scope at In[85]:3",
      " [2] include_string(::Function, ::Module, ::String, ::String) at ./loading.jl:1091"
     ]
    }
   ],
   "source": [
    "hours = 1\n",
    "minutes = hours * 60\n",
    "hours * 60 = minutes # wrong!"
   ]
  },
  {
   "cell_type": "markdown",
   "metadata": {},
   "source": [
    "********\n",
    "## Adding a  New function\n",
    "到目前为止，我们只使用了Julia附带的函数，但是还可以添加新函数。函数定义指定新函数的名称和调用该函数时运行的语句序列。下面是一个例子:\n"
   ]
  },
  {
   "cell_type": "code",
   "execution_count": 86,
   "metadata": {},
   "outputs": [
    {
     "data": {
      "text/plain": [
       "printlyrics (generic function with 1 method)"
      ]
     },
     "execution_count": 86,
     "metadata": {},
     "output_type": "execute_result"
    }
   ],
   "source": [
    "function printlyrics()\n",
    "    println(\"I'm a lumberjack, and I'm okay.\")\n",
    "    println(\"I sleep all night and I work all day.\")\n",
    "end"
   ]
  },
  {
   "cell_type": "markdown",
   "metadata": {},
   "source": [
    "function是一个关键字，表示这是一个函数定义。函数的名称是printlyrics。函数名的规则与变量名相同:它们可以包含几乎所有的Unicode字符(参见字符)，但第一个字符不能是数字。不能使用关键字作为函数的名称，并且应该避免变量和函数具有相同的名称。\n",
    "\n",
    "名称后的空括号表示这个函数不接受任何参数。\n",
    "\n",
    "函数定义的第一行称为头文件;其余的叫做身体。主体以关键字end结束，可以包含任意数量的语句。为了可读性，函数体应该缩进。\n",
    "\n",
    "引号必须是“直引号”，通常位于键盘上的输入符旁边。“卷引号”，就像这句话里的，在Julia身上是不合法的。\n",
    "\n",
    "如果你在交互模式下输入一个函数定义，REPL会缩进让你知道这个定义不完整:\n",
    "\n",
    "```julia\n",
    "julia>function printlyrics()\n",
    "       println(\"I'm a lumberjack, and I'm okay.\")\n",
    "```\n",
    "要结束该功能，您必须输入end。\n",
    "\n",
    "调用新函数的语法与内置函数相同:"
   ]
  },
  {
   "cell_type": "code",
   "execution_count": 87,
   "metadata": {},
   "outputs": [
    {
     "name": "stdout",
     "output_type": "stream",
     "text": [
      "I'm a lumberjack, and I'm okay.\n",
      "I sleep all night and I work all day.\n"
     ]
    }
   ],
   "source": [
    "printlyrics()"
   ]
  },
  {
   "cell_type": "markdown",
   "metadata": {},
   "source": [
    "一旦定义了一个函数，就可以在另一个函数中使用它。例如，为了重复前面的printlyrics，我们可以编写一个名为repeatlyrics的函数:"
   ]
  },
  {
   "cell_type": "code",
   "execution_count": 88,
   "metadata": {},
   "outputs": [
    {
     "data": {
      "text/plain": [
       "repeatlyrics (generic function with 1 method)"
      ]
     },
     "execution_count": 88,
     "metadata": {},
     "output_type": "execute_result"
    }
   ],
   "source": [
    "function repeatlyrics()\n",
    "    printlyrics()\n",
    "    printlyrics()\n",
    "end"
   ]
  },
  {
   "cell_type": "code",
   "execution_count": 89,
   "metadata": {},
   "outputs": [
    {
     "name": "stdout",
     "output_type": "stream",
     "text": [
      "I'm a lumberjack, and I'm okay.\n",
      "I sleep all night and I work all day.\n",
      "I'm a lumberjack, and I'm okay.\n",
      "I sleep all night and I work all day.\n"
     ]
    }
   ],
   "source": [
    "repeatlyrics()"
   ]
  },
  {
   "cell_type": "markdown",
   "metadata": {},
   "source": [
    "*****\n",
    "## Definitions and Use\n",
    "将前一节的代码片段整合在一起，整个程序看起来像这样:\n",
    "\n",
    "```julia\n",
    "function printlyrics()\n",
    "    println(\"I'm a lumberjack, and I'm okay.\")\n",
    "    println(\"I sleep all night and I work all day.\")\n",
    "end\n",
    "\n",
    "function repeatlyrics()\n",
    "    printlyrics()\n",
    "    printlyrics()\n",
    "end\n",
    "\n",
    "repeatlyrics()\n",
    "```\n",
    "\n",
    "这个程序包含两个函数定义:printlyrics和repeatlyrics。函数定义像其他语句一样执行，但其效果是创建函数对象。在函数被调用之前，函数内部的语句不会运行，并且函数定义不会产生输出。\n",
    "\n",
    "如您所料，必须先创建一个函数，然后才能运行它。换句话说，函数定义必须在函数被调用之前运行。"
   ]
  },
  {
   "cell_type": "markdown",
   "metadata": {},
   "source": [
    "*******\n",
    "## flow of execution\n",
    "为了确保在第一次使用函数之前定义函数，您必须知道运行的顺序语句，这称为执行流。\n",
    "\n",
    "执行总是从程序的第一个语句开始。语句按从上到下的顺序一次运行一个。\n",
    "\n",
    "函数定义不会改变程序的执行流，但请记住，在函数被调用之前，函数内部的语句不会运行。\n",
    "\n",
    "函数调用就像执行流程中的绕道。流不是转到下一个语句，而是跳转到函数体，在那里运行语句，然后返回到它停止的地方。\n",
    "\n",
    "这听起来非常简单，直到您记得一个函数可以调用另一个函数。在一个函数的中间，程序可能必须运行另一个函数中的语句。然后，当运行这个新函数时，程序可能必须运行另一个函数!\n",
    "\n",
    "幸运的是，Julia很擅长跟踪它的位置，所以每次函数结束时，程序都会从调用它的函数中结束的位置恢复。当它到达程序的末尾时，它就终止了。\n",
    "\n",
    "总之，当你阅读一个程序时，你并不总是想要从上到下阅读。有时，如果你遵循执行流程，会更有意义。"
   ]
  },
  {
   "cell_type": "markdown",
   "metadata": {},
   "source": [
    "****\n",
    "## Parameters And Argument\n",
    "\n",
    "我们见过的一些函数需要参数。例如，当你调用sin时，你传递一个数字作为参数。有些函数有多个参数:parse有两个参数，一个数字类型和一个字符串。\n",
    "\n",
    "在函数内部，参数被赋值给称为参数的变量。下面是带参数的函数的定义:"
   ]
  },
  {
   "cell_type": "code",
   "execution_count": 90,
   "metadata": {},
   "outputs": [
    {
     "data": {
      "text/plain": [
       "printtwice (generic function with 1 method)"
      ]
     },
     "execution_count": 90,
     "metadata": {},
     "output_type": "execute_result"
    }
   ],
   "source": [
    "function printtwice(bruce)\n",
    "    println(bruce)\n",
    "    println(bruce)\n",
    "end"
   ]
  },
  {
   "cell_type": "markdown",
   "metadata": {},
   "source": [
    "这个函数将参数赋值给一个名为bruce的参数。当函数被调用时，它会两次输出形参的值(无论它是什么)。\n",
    "\n",
    "这个函数可以处理任何可以打印的值。"
   ]
  },
  {
   "cell_type": "code",
   "execution_count": 91,
   "metadata": {},
   "outputs": [
    {
     "name": "stdout",
     "output_type": "stream",
     "text": [
      "Spam\n",
      "Spam\n"
     ]
    }
   ],
   "source": [
    "printtwice(\"Spam\")"
   ]
  },
  {
   "cell_type": "code",
   "execution_count": 92,
   "metadata": {},
   "outputs": [
    {
     "name": "stdout",
     "output_type": "stream",
     "text": [
      "π\n",
      "π\n"
     ]
    }
   ],
   "source": [
    "printtwice(π)"
   ]
  },
  {
   "cell_type": "code",
   "execution_count": 93,
   "metadata": {},
   "outputs": [
    {
     "name": "stdout",
     "output_type": "stream",
     "text": [
      "Spam Spam Spam Spam \n",
      "Spam Spam Spam Spam \n"
     ]
    }
   ],
   "source": [
    "printtwice(\"Spam \"^4)"
   ]
  },
  {
   "cell_type": "markdown",
   "metadata": {},
   "source": [
    "适用于内置函数的组合规则同样适用于程序员定义的函数，因此可以使用任何类型的表达式作为printtwice的参数:\n",
    "\n",
    "参数在函数被调用之前被求值，因此在示例中表达式“Spam”^4和cos(π)只被求值一次。\n",
    "\n",
    "你也可以使用变量作为参数:"
   ]
  },
  {
   "cell_type": "code",
   "execution_count": 94,
   "metadata": {},
   "outputs": [
    {
     "name": "stdout",
     "output_type": "stream",
     "text": [
      "Eric, the half a bee.\n",
      "Eric, the half a bee.\n"
     ]
    }
   ],
   "source": [
    "michael = \"Eric, the half a bee.\"\n",
    "printtwice(michael)"
   ]
  },
  {
   "cell_type": "markdown",
   "metadata": {},
   "source": [
    "*********\n",
    "## Variables and Parameters Are Local\n",
    "当您在函数中创建变量时，它是局部的，这意味着它只存在于函数中。例如:\n"
   ]
  },
  {
   "cell_type": "code",
   "execution_count": 95,
   "metadata": {},
   "outputs": [
    {
     "data": {
      "text/plain": [
       "cattwice (generic function with 1 method)"
      ]
     },
     "execution_count": 95,
     "metadata": {},
     "output_type": "execute_result"
    }
   ],
   "source": [
    "function cattwice(part1, part2)\n",
    "    concat = part1 * part2\n",
    "    printtwice(concat)\n",
    "end"
   ]
  },
  {
   "cell_type": "markdown",
   "metadata": {},
   "source": [
    "这个函数接受两个参数，将它们连接起来，并输出两次结果。下面是一个使用它的例子:"
   ]
  },
  {
   "cell_type": "code",
   "execution_count": 96,
   "metadata": {},
   "outputs": [
    {
     "name": "stdout",
     "output_type": "stream",
     "text": [
      "Bing tiddle tiddle bang.\n",
      "Bing tiddle tiddle bang.\n"
     ]
    }
   ],
   "source": [
    "line1 = \"Bing tiddle \"\n",
    "line2 = \"tiddle bang.\"\n",
    "cattwice(line1, line2)"
   ]
  },
  {
   "cell_type": "markdown",
   "metadata": {},
   "source": [
    "当cattwice终止时，变量concat被销毁。如果试图打印它，会得到一个异常:\n",
    "```julia\n",
    "julia> println(concat)\n",
    "ERROR: UndefVarError: concat not defined\n",
    "```"
   ]
  },
  {
   "cell_type": "markdown",
   "metadata": {},
   "source": [
    "*****\n",
    "## fruitful function and void function\n",
    "我们使用的一些函数，如数学函数，返回结果;由于没有更好的名称，我称它们为卓有成效的函数。其他函数，如printtwice，执行一个操作但不返回值。它们被称为空函数。\n",
    "\n",
    "当你调用一个有结果的函数时，你几乎总是想对结果做些什么;例如，你可以将它赋值给一个变量，或者将它用作表达式的一部分:\n",
    "\n",
    "```julia\n",
    "x = cos(radians)\n",
    "golden = (sqrt(5) + 1) / 2\n",
    "```\n",
    "当你以交互模式调用函数时，Julia会显示结果:\n",
    "\n",
    "```julia\n",
    "julia> sqrt(5)\n",
    "2.23606797749979\n",
    "```\n",
    "但是在脚本中，如果您单独调用一个富有成效的函数，则返回值将永远丢失!\n",
    "\n",
    "```julia\n",
    "sqrt(5)\n",
    "```\n",
    "\n",
    "输出\n",
    "\n",
    "```julia\n",
    "2.23606797749979\n",
    "```\n",
    "这个脚本计算5的平方根，但是因为它不存储或显示结果，所以它不是很有用。\n",
    "\n",
    "Void函数可能会在屏幕上显示一些东西或具有其他效果，但它们没有返回值。如果将结果赋给变量，则会得到一个名为nothing的特殊值。\n",
    "\n",
    "```julia\n",
    "julia> typeof(nothing)\n",
    "Nothing\n",
    "```\n",
    "到目前为止，我们写的函数都是void。我们将在几章中开始编写富有成果的函数。"
   ]
  },
  {
   "cell_type": "markdown",
   "metadata": {},
   "source": [
    "*******\n",
    "# Conditionals and Recursion\n",
    "条件和递归\n",
    "\n",
    "本章的主题是if语句，它根据程序的状态执行不同的代码。但首先我要介绍两种新的运算符:floor division and modulus\n",
    "*****\n",
    "\n",
    "## Floor division and modulus\n",
    "\n",
    "层除法运算符，÷(\\div Tab)，可以将两个数字整除并四舍五入得到一个整数。例如，假设电影的运行时间是105分钟。你可能想知道那是多长时间，以小时计算。常规除法返回一个浮点数:\n",
    "\n",
    "```julia\n",
    "julia> minutes = 105\n",
    "105\n",
    "julia> minutes / 60\n",
    "1.75\n",
    "```\n",
    "但是我们通常不会用小数点来表示小时。floor division返回整数小时数，向下舍入:\n",
    "\n",
    "```julia\n",
    "julia> hours = minutes ÷ 60\n",
    "1\n",
    "```\n",
    "要得到余数，你可以分钟减去一小时:\n",
    "\n",
    "```julia\n",
    "julia> remainder = minutes - hours * 60\n",
    "45\n",
    "```\n",
    "另一种方法是使用模数运算符%，它可以将两个数整除并返回余数。\n",
    "\n",
    "```julia\n",
    "julia> remainder = minutes % 60\n",
    "45\n",
    "```\n",
    "*****\n",
    "## Boolean Expressions\n",
    "布尔表达式是一个要么为真要么为假的表达式。下面的例子使用了操作符==，它比较两个操作数，如果相等则生成true，否则生成false:\n",
    "\n",
    "```julia\n",
    "julia> 5 == 5\n",
    "true\n",
    "julia> 5 == 6\n",
    "false\n",
    "```\n",
    "true和false是属于Bool类型的特殊值;它们不是字符串:\n",
    "\n",
    "```julia\n",
    "julia> typeof(true)\n",
    "Bool\n",
    "julia> typeof(false)\n",
    "Bool\n",
    "```\n",
    "==操作符是一种关系操作符;其他的有:\n",
    "\n",
    "```\n",
    "x != y               # x is not equal to y\n",
    "x ≠ y                # (\\ne TAB)\n",
    "x > y                # x is greater than y\n",
    "x < y                # x is less than y\n",
    "x >= y               # x is greater than or equal to y\n",
    "x ≥ y                # (\\ge TAB)\n",
    "x <= y               # x is less than or equal to y\n",
    "x ≤ y                # (\\le TAB)\n",
    "```\n",
    "*****\n",
    "## Logical Operators\n",
    "下面是三个逻辑运算符:&&(和)、||(或)和!(不)。这些操作符的语义(含义)与它们在英语中的含义相似。例如，x > 0 && x < 10仅当x大于0且小于10时为真。\n",
    "\n",
    "n % 2 == 0 || n % 3 == 0如果任意一个或两个条件都为真，也就是说，如果数字能被2或3整除，则为真。\n",
    "\n",
    "&&和||都在右边，但&&优先级高于||。\n",
    "\n",
    "最后,!(x > y)当x > y为false时为真，也就是说，如果x小于或等于y。\n",
    "\n",
    "****\n",
    "## Conditional Execution\n",
    "为了编写有用的程序，我们几乎总是需要能够检查条件并相应地改变程序的行为。条件语句赋予我们这种能力。最简单的形式是if语句:\n",
    "```julia\n",
    "if x > 0\n",
    "    println(\"x is positive\")\n",
    "end\n",
    "```\n",
    "if后面的布尔表达式被称为条件。如果为真，则运行缩进语句。如果没有，什么也不会发生。\n",
    "\n",
    "if语句的结构与函数定义相同:头文件后跟以关键字end结尾的正文。这样的语句称为复合语句。\n",
    "\n",
    "语句体中可以出现的语句数量没有限制。有时，没有语句的主体是有用的(通常是作为尚未编写的代码的存储器)。\n",
    "\n",
    "```julia\n",
    "if x < 0\n",
    "    # TODO: need to handle negative values!\n",
    "end\n",
    "```\n",
    "****\n",
    "## Alternative Execution\n",
    "if语句的第二种形式是“alternative execution”，其中有两种可能性，由条件决定哪一种运行。语法如下所示:\n",
    "```julia\n",
    "if x % 2 == 0\n",
    "    println(\"x is even\")\n",
    "else\n",
    "    println(\"x is odd\")\n",
    "end\n",
    "```\n",
    "如果x除以2的余数是0，那么我们知道x是偶数，程序将显示相应的消息。如果条件为false，则运行第二组语句。由于条件必须为真或假，因此只运行一个备选项。备选方案被称为分支，因为它们是执行流中的分支。\n",
    "\n",
    "****\n",
    "## Chained Conditionals\n",
    "有时有两种以上的可能性，我们需要两种以上的分支。一种表达这样计算的方法是链式条件语句:\n",
    "```julia\n",
    "if x < y\n",
    "    println(\"x is less than y\")\n",
    "elseif x > y\n",
    "    println(\"x is greater than y\")\n",
    "else\n",
    "    println(\"x and y are equal\")\n",
    "end\n",
    "```\n",
    "同样，只运行一个分支。elseif语句的数量没有限制。如果有else子句，它必须在末尾，但不一定有。\n",
    "```julia\n",
    "if choice == \"a\"\n",
    "    draw_a()\n",
    "elseif choice == \"b\"\n",
    "    draw_b()\n",
    "elseif choice == \"c\"\n",
    "    draw_c()\n",
    "end\n",
    "```\n",
    "按顺序检查每个条件。如果第一个为假，则检查下一个，依此类推。如果其中一个为真，则运行相应的分支并结束语句。即使有多个条件为真，也只有第一个真正的分支运行。\n",
    "\n",
    "****\n",
    "## Nested Conditionals\n",
    "一个条件也可以嵌套在另一个条件中。我们可以像这样在前一节中编写示例:\n",
    "\n",
    "\n",
    "```julia\n",
    "if x == y\n",
    "    println(\"x and y are equal\")\n",
    "else\n",
    "    if x < y\n",
    "        println(\"x is less than y\")\n",
    "    else\n",
    "        println(\"x is greater than y\")\n",
    "    end\n",
    "end\n",
    "```\n",
    "outer条件包含两个分支。第一个分支包含一个简单的语句。第二个分支包含另一个if语句，该语句有自己的两个分支。这两个分支都是简单的语句，尽管它们也可以是条件语句。\n",
    "\n",
    "虽然语句的非强制缩进使得结构很明显，但嵌套的条件语句很难快速阅读。在可能的时候避免使用它们是个好主意。\n",
    "\n",
    "逻辑运算符通常提供了一种简化嵌套条件语句的方法。例如，我们可以用一个条件改写下面的代码:\n",
    "\n",
    "```julia\n",
    "if 0 < x && x < 10\n",
    "    println(\"x is a positive single-digit number.\")\n",
    "end\n",
    "```\n",
    "对于这种情况，Julia提供了一种更简洁的语法:\n",
    "\n",
    "```julia\n",
    "if 0 < x < 10\n",
    "    println(\"x is a positive single-digit number.\")\n",
    "end\n",
    "```\n",
    "****\n",
    "## Recursion\n",
    "一个函数调用另一个函数是合法的;函数调用自身也是合法的。为什么这是一件好事可能不是很明显，但事实证明这是一个程序能做的最神奇的事情之一。例如，看看下面的函数:\n",
    "\n",
    "```julia\n",
    "function countdown(n)\n",
    "    if n ≤ 0\n",
    "        println(\"Blastoff!\")\n",
    "    else\n",
    "        print(n, \" \")\n",
    "        countdown(n-1)\n",
    "    end\n",
    "end\n",
    "```\n",
    "如果n为0或负数，则输出单词“Blastoff!”否则，它将输出n，然后调用名为countdown -自身的函数，并将n-1作为参数传递。\n",
    "\n",
    "如果我们像这样调用这个函数会发生什么?\n",
    "\n",
    "```julia\n",
    "julia> countdown(3)\n",
    "3 2 1 Blastoff!\n",
    "```\n",
    "倒计时的执行从n = 3开始，由于n大于0，它输出值3，然后调用自身…\n",
    "\n",
    "倒计时从n = 2开始，由于n大于0，\n",
    "它输出值2，然后调用自身…\n",
    "\n",
    "倒计时从n = 1开始，由于n大于0，\n",
    "它输出值1，然后调用自身…\n",
    "\n",
    "倒数的执行从n = 0开始，因为n不大于\n",
    "0，它输出单词“Blastoff!”，然后返回。\n",
    "\n",
    "n = 1的倒计时返回。\n",
    "\n",
    "得到n = 2的倒计时返回。\n",
    "\n",
    "得到n = 3的倒计时返回。\n",
    "\n",
    "然后你就回到了主战场。\n",
    "\n",
    "调用自身的函数是递归的;执行它的过程称为递归。\n",
    "\n",
    "另一个例子是，我们可以编写一个函数，输出一个字符串n次。\n",
    "\n",
    "```julia\n",
    "function printn(s, n)\n",
    "    if n ≤ 0\n",
    "        return\n",
    "    end\n",
    "    println(s)\n",
    "    printn(s, n-1)\n",
    "end\n",
    "```\n",
    "\n",
    "如果n <= 0，则返回语句退出函数。执行流立即返回到调用者，函数的其余行不运行。\n",
    "\n",
    "该函数的其余部分类似于倒计时:它显示s，然后调用自己来显示s n−1次。所以输出的行数是1+(n−1)加起来是n。\n",
    "\n",
    "对于像这样的简单示例，使用For循环可能更容易。但是我们将在后面看到一些用for循环很难编写而用递归很容易编写的示例，所以最好尽早开始。\n",
    "\n",
    "****\n",
    "## Keyboard Input\n",
    "到目前为止，我们编写的程序不接受用户的输入。他们只是每次都做同样的事情。\n",
    "\n",
    "Julia提供了一个名为readline的内置函数，用于停止程序并等待用户输入一些内容。当用户按回车键时，程序继续运行，readline返回用户输入的字符串。\n",
    "\n",
    "```julia\n",
    "julia> text = readline()\n",
    "What are you waiting for?\n",
    "\"What are you waiting for?\"\n",
    "julia> print(\"What...is your name? \"); readline()\n",
    "What...is your name? Arthur, King of the Britons!\n",
    "\"Arthur, King of the Britons!\"\n",
    "```\n",
    "在从用户那里得到输入之前，最好打印一个提示，告诉用户要输入什么:\n",
    "\n",
    "一个分号;允许将多条语句放在同一行上。在REPL中，只有最后一条语句返回它的值。\n",
    "\n",
    "如果你期望用户输入一个整数，你可以尝试将返回值转换为Int64:\n",
    "```julia\n",
    "julia> println(\"What...is the airspeed velocity of an unladen swallow?\"); speed = readline()\n",
    "What...is the airspeed velocity of an unladen swallow?\n",
    "42\n",
    "\"42\"\n",
    "julia> parse(Int64, speed)\n",
    "42\n",
    "```\n",
    "但是如果用户输入的不是一串数字，你会得到一个错误:\n",
    "\n",
    "```julia\n",
    "julia> println(\"What...is the airspeed velocity of an unladen swallow? \"); speed = readline()\n",
    "What...is the airspeed velocity of an unladen swallow?\n",
    "What do you mean, an African or a European swallow?\n",
    "\"What do you mean, an African or a European swallow?\"\n",
    "julia> parse(Int64, speed)\n",
    "ERROR: ArgumentError: invalid base 10 digit 'W' in \"What do you mean, an African or a European swallow?\"\n",
    "[...]\n",
    "```\n",
    "\n"
   ]
  },
  {
   "cell_type": "code",
   "execution_count": null,
   "metadata": {},
   "outputs": [],
   "source": []
  }
 ],
 "metadata": {
  "kernelspec": {
   "display_name": "Julia 1.5.1",
   "language": "julia",
   "name": "julia-1.5"
  },
  "language_info": {
   "file_extension": ".jl",
   "mimetype": "application/julia",
   "name": "julia",
   "version": "1.5.1"
  }
 },
 "nbformat": 4,
 "nbformat_minor": 4
}
